{
 "cells": [
  {
   "cell_type": "code",
   "execution_count": 16,
   "id": "c363f8e9",
   "metadata": {},
   "outputs": [
    {
     "name": "stdout",
     "output_type": "stream",
     "text": [
      "C:\\Users\\chalval\\AppData\\Local\\Programs\\Python\\Python311\\python.exe\n"
     ]
    }
   ],
   "source": [
    "import seaborn as sns\n",
    "import numpy as np\n",
    "import sys\n",
    "\n",
    "print(sys.executable)"
   ]
  },
  {
   "cell_type": "code",
   "execution_count": 84,
   "id": "e81a9341",
   "metadata": {},
   "outputs": [
    {
     "name": "stdout",
     "output_type": "stream",
     "text": [
      "CPU times: total: 469 ms\n",
      "Wall time: 472 ms\n"
     ]
    },
    {
     "data": {
      "image/png": "[encoded data removed]",
      "text/plain": [
       "<Figure size 500x500 with 1 Axes>"
      ]
     },
     "metadata": {},
     "output_type": "display_data"
    }
   ],
   "source": [
    "%%time\n",
    "x=np.random.randn(2000)\n",
    "\n",
    "sns.displot(x, bins = 200);"
   ]
  },
  {
   "cell_type": "markdown",
   "id": "f0b2e99a",
   "metadata": {},
   "source": [
    "# ggраплдл\n"
   ]
  },
  {
   "cell_type": "code",
   "execution_count": 73,
   "id": "646850f2",
   "metadata": {},
   "outputs": [
    {
     "name": "stdout",
     "output_type": "stream",
     "text": [
      "20\n",
      "CPU times: total: 0 ns\n",
      "Wall time: 0 ns\n"
     ]
    }
   ],
   "source": [
    "%%time\n",
    "print(5*4)"
   ]
  },
  {
   "cell_type": "markdown",
   "id": "11339883",
   "metadata": {},
   "source": [
    "## jjjfffftyyyuhgggfff"
   ]
  },
  {
   "cell_type": "code",
   "execution_count": 90,
   "id": "135123ac",
   "metadata": {},
   "outputs": [
    {
     "name": "stdout",
     "output_type": "stream",
     "text": [
      "{'One': 1, 'Two': 2, 'Three': 3, 'Four': 4, 'Five': 5, 'Six': 6}\n"
     ]
    }
   ],
   "source": [
    "dict1 = {'One': 1, 'Two': 2, 'Three': 3}\n",
    "dict2 = {'Four': 4, 'Five': 5, 'Six': 6}\n",
    "dict1.update(dict2)\n",
    "print(dict1)"
   ]
  },
  {
   "cell_type": "code",
   "execution_count": 123,
   "id": "53e964da",
   "metadata": {},
   "outputs": [
    {
     "name": "stdout",
     "output_type": "stream",
     "text": [
      "{'One': 1, 'Two': 2, 'Three': 3, 'Four': 4, 'Five': 5, 'Six': 6}\n",
      "{'One': 1, 'Two': 2, 'Three': 3, 'Four': 4, 'Five': 5, 'Six': 6}\n",
      "{'Four': 4, 'Five': 5, 'Six': 6}\n",
      "CPU times: total: 0 ns\n",
      "Wall time: 0 ns\n"
     ]
    }
   ],
   "source": [
    "%%time\n",
    "def merge(dict1: dict, dict2: dict) -> dict:\n",
    "    dict1.update(dict2)\n",
    "    return dict1\n",
    "\n",
    "dict1 = {'One': 1, 'Two': 2, 'Three': 3}\n",
    "dict2 = {'Four': 4, 'Five': 5, 'Six': 6}\n",
    "\n",
    "print(merge(dict1, dict2))\n",
    "print(dict1)\n",
    "print(dict2)"
   ]
  },
  {
   "cell_type": "code",
   "execution_count": 121,
   "id": "f62cb39f",
   "metadata": {},
   "outputs": [
    {
     "name": "stdout",
     "output_type": "stream",
     "text": [
      "{'One': 1, 'Two': 2, 'Three': 3, 777: 44}\n"
     ]
    }
   ],
   "source": [
    "def get_dict(keys: list, values: list) -> dict:\n",
    "    if len(keys) != len(values):\n",
    "        return None\n",
    "    res = dict()\n",
    "    for i in range(len(keys)):\n",
    "        res[keys[i]] = values[i]\n",
    "    res[777] = 44\n",
    "    return res\n",
    "\n",
    "keys = ['One', 'Two', 'Three']\n",
    "values = [1, 2, 3]\n",
    "\n",
    "print(get_dict(keys, values))\n"
   ]
  },
  {
   "cell_type": "code",
   "execution_count": 125,
   "id": "7de95943",
   "metadata": {},
   "outputs": [
    {
     "name": "stdout",
     "output_type": "stream",
     "text": [
      "{'One': 1, 'Two': 2, 'Three': 3}\n"
     ]
    }
   ],
   "source": [
    "def get_dict2(keys: list, values: list) -> dict:\n",
    "    if len(keys) != len(values):\n",
    "        return None\n",
    "    return {keys[i]: values[i] for i in range(len(keys))}\n",
    "\n",
    "keys = ['One', 'Two', 'Three']\n",
    "values = [1, 2, 3]\n",
    "\n",
    "res_dict_2 = get_dict2(keys, values)\n",
    "\n",
    "print(res_dict_2)"
   ]
  },
  {
   "cell_type": "code",
   "execution_count": 127,
   "id": "8d94472a",
   "metadata": {},
   "outputs": [
    {
     "name": "stdout",
     "output_type": "stream",
     "text": [
      "{'One': 1, 'Two': 2, 'Three': 3}\n"
     ]
    }
   ],
   "source": [
    "def get_dict3(keys: list, values: list) -> dict:\n",
    "    return dict(zip(keys, values))\n",
    "\n",
    "keys = ['One', 'Two', 'Three']\n",
    "values = [1, 2, 3]\n",
    "\n",
    "res_dict_3 = get_dict3(keys, values)\n",
    "\n",
    "print(res_dict_3)"
   ]
  },
  {
   "cell_type": "code",
   "execution_count": 128,
   "id": "0ae10fb4",
   "metadata": {},
   "outputs": [
    {
     "name": "stdout",
     "output_type": "stream",
     "text": [
      "{'name': 'John', 'age': 25}\n",
      "{'city': 'Moscow'}\n"
     ]
    }
   ],
   "source": [
    "def get_key(dict1: dict, keys: list=['name', 'age']) -> dict:\n",
    "    res = dict()\n",
    "    for i in keys:\n",
    "        if i in dict1.keys():\n",
    "            res[i] = dict1[i]\n",
    "    return res\n",
    "\n",
    "\n",
    "\n",
    "client_dict = {\n",
    "\"name\": \"John\",\n",
    "\"age\": 25,\n",
    "\"salary\": 5000,\n",
    "\"city\": \"Moscow\"\n",
    "}\n",
    "\n",
    "print(get_key(client_dict))\n",
    "print(get_key(client_dict, ['city']))"
   ]
  },
  {
   "cell_type": "code",
   "execution_count": 132,
   "id": "57e365ab",
   "metadata": {},
   "outputs": [
    {
     "name": "stdout",
     "output_type": "stream",
     "text": [
      "{'name': 'John', 'age': 25}\n",
      "{'city': 'Moscow'}\n"
     ]
    }
   ],
   "source": [
    "def get_key(dict1: dict, keys: list=['name', 'age']) -> dict:\n",
    "    return {i: dict1[i] for i in keys if i in dict1.keys()}\n",
    "\n",
    "\n",
    "\n",
    "client_dict = {\n",
    "\"name\": \"John\",\n",
    "\"age\": 25,\n",
    "\"salary\": 5000,\n",
    "\"city\": \"Moscow\"\n",
    "}\n",
    "\n",
    "print(get_key(client_dict))\n",
    "print(get_key(client_dict, ['city']))"
   ]
  },
  {
   "cell_type": "code",
   "execution_count": 134,
   "id": "f23dd345",
   "metadata": {},
   "outputs": [
    {
     "name": "stdout",
     "output_type": "stream",
     "text": [
      "[79, 32, 94, 45, 88]\n"
     ]
    }
   ],
   "source": [
    "import random\n",
    "random.seed(5)\n",
    "\n",
    "list1 = [random.randint(0, 100) for i in range(5)]\n",
    "print(list1)"
   ]
  },
  {
   "cell_type": "markdown",
   "id": "d810c1b3",
   "metadata": {},
   "source": [
    "<table>\n",
    "<tr>\n",
    "<td></td>\n",
    "<td>До события</td>\n",
    "<td>Во время события</td>\n",
    "</tr>\n",
    "<tr>\n",
    "<td>1 КТ</td>\n",
    "<td>250 </td>\n",
    "<td>500 </td>\n",
    "</tr>\n",
    "<tr>\n",
    "<td>2 КТ</td>\n",
    "<td>350 </td>\n",
    "<td>700 </td>\n",
    "</tr>\n",
    "<tr>\n",
    "<td>3 КТ</td>\n",
    "<td>400 </td>\n",
    "<td>800 </td>\n",
    "</tr>\n",
    "<tr>\n",
    "<td>Итого за победу</td>\n",
    "<td>1000 </td>\n",
    "<td>2000 </td>\n",
    "</tr>\n",
    "</table>"
   ]
  },
  {
   "cell_type": "code",
   "execution_count": null,
   "id": "5a163494",
   "metadata": {},
   "outputs": [],
   "source": []
  },
  {
   "cell_type": "code",
   "execution_count": null,
   "id": "21a06631",
   "metadata": {},
   "outputs": [],
   "source": []
  }
 ],
 "metadata": {
  "kernelspec": {
   "display_name": "Python 3 (ipykernel)",
   "language": "python",
   "name": "python3"
  },
  "language_info": {
   "codemirror_mode": {
    "name": "ipython",
    "version": 3
   },
   "file_extension": ".py",
   "mimetype": "text/x-python",
   "name": "python",
   "nbconvert_exporter": "python",
   "pygments_lexer": "ipython3",
   "version": "3.11.1"
  }
 },
 "nbformat": 4,
 "nbformat_minor": 5
}
