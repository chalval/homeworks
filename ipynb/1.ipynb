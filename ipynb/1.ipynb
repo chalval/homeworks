{
 "cells": [
  {
   "cell_type": "markdown",
   "metadata": {},
   "source": [
    "## Task 1\n",
    "### 1.1 Соедините два словаря в один\n"
   ]
  },
  {
   "cell_type": "code",
   "execution_count": 18,
   "metadata": {},
   "outputs": [],
   "source": [
    "dict1 = {'One': 1, 'Two': 2, 'Three': 3}\n",
    "dict2 = {'Four': 4, 'Five': 5, 'Six': 6}\n"
   ]
  },
  {
   "cell_type": "code",
   "execution_count": 21,
   "metadata": {},
   "outputs": [
    {
     "name": "stdout",
     "output_type": "stream",
     "text": [
      "None\n",
      "{'One': 1, 'Two': 2, 'Three': 3, 'Four': 4, 'Five': 5, 'Six': 6}\n"
     ]
    }
   ],
   "source": [
    "print(dict1.update(dict2))\n",
    "print(dict1)\n"
   ]
  },
  {
   "cell_type": "code",
   "execution_count": 36,
   "metadata": {},
   "outputs": [
    {
     "data": {
      "text/plain": [
       "2.718281828459045"
      ]
     },
     "execution_count": 36,
     "metadata": {},
     "output_type": "execute_result"
    }
   ],
   "source": [
    "import math as _\n",
    "_.e"
   ]
  },
  {
   "cell_type": "code",
   "execution_count": 5,
   "metadata": {},
   "outputs": [
    {
     "name": "stdout",
     "output_type": "stream",
     "text": [
      "{'One': 1, 'Two': 2, 'Three': 3, 'Four': 4, 'Five': 5, 'Six': 6}\n"
     ]
    }
   ],
   "source": [
    "def merge(dict1: dict, dict2: dict) -> dict:\n",
    "    dict1.update(dict2)\n",
    "    return dict1\n",
    "\n",
    "dict1 = {'One': 1, 'Two': 2, 'Three': 3}\n",
    "dict2 = {'Four': 4, 'Five': 5, 'Six': 6}\n",
    "\n",
    "print(merge(dict1, dict2))"
   ]
  },
  {
   "cell_type": "code",
   "execution_count": 32,
   "metadata": {
    "scrolled": true
   },
   "outputs": [
    {
     "name": "stdout",
     "output_type": "stream",
     "text": [
      "{'One': 1, 'Two': 2, 'Three': 3, 'Four': 4, 'Five': 5, 'Six': 6}\n",
      "{'Four': 4, 'Five': 5, 'Six': 6}\n"
     ]
    }
   ],
   "source": [
    "print(dict1)\n",
    "print(dict2)"
   ]
  },
  {
   "cell_type": "markdown",
   "metadata": {},
   "source": [
    "## Task 2\n",
    "### 2.1"
   ]
  },
  {
   "cell_type": "code",
   "execution_count": 7,
   "metadata": {},
   "outputs": [
    {
     "name": "stdout",
     "output_type": "stream",
     "text": [
      "{'One': 1, 'Two': 2, 'Three': 3}\n"
     ]
    }
   ],
   "source": [
    "def get_dict(keys: list, values: list) -> dict:\n",
    "    if len(keys) != len(values):\n",
    "        return None\n",
    "    res = dict()\n",
    "    for i in range(len(keys)):\n",
    "        res[keys[i]] = values[i]\n",
    "    return res\n",
    "\n",
    "keys = ['One', 'Two', 'Three']\n",
    "values = [1, 2, 3]\n",
    "res_dict = get_dict(keys, values)\n",
    "\n",
    "print(res_dict)"
   ]
  },
  {
   "cell_type": "markdown",
   "metadata": {},
   "source": [
    "### 2.2"
   ]
  },
  {
   "cell_type": "code",
   "execution_count": 8,
   "metadata": {},
   "outputs": [
    {
     "name": "stdout",
     "output_type": "stream",
     "text": [
      "{'One': 1, 'Two': 2, 'Three': 3}\n"
     ]
    }
   ],
   "source": [
    "def get_dict2(keys: list, values: list) -> dict:\n",
    "    if len(keys) != len(values):\n",
    "        return None\n",
    "    return {keys[i]: values[i] for i in range(len(keys))}\n",
    "\n",
    "keys = ['One', 'Two', 'Three']\n",
    "values = [1, 2, 3]\n",
    "\n",
    "res_dict_2 = get_dict2(keys, values)\n",
    "\n",
    "print(res_dict_2)\n"
   ]
  },
  {
   "cell_type": "markdown",
   "metadata": {},
   "source": [
    "### 2.3"
   ]
  },
  {
   "cell_type": "code",
   "execution_count": 9,
   "metadata": {},
   "outputs": [
    {
     "name": "stdout",
     "output_type": "stream",
     "text": [
      "{'One': 1, 'Two': 2, 'Three': 3}\n"
     ]
    }
   ],
   "source": [
    "def get_dict3(keys: list, values: list) -> dict:\n",
    "    return dict(zip(keys, values))\n",
    "\n",
    "keys = ['One', 'Two', 'Three']\n",
    "values = [1, 2, 3]\n",
    "\n",
    "res_dict_3 = get_dict3(keys, values)\n",
    "\n",
    "print(res_dict_3)"
   ]
  },
  {
   "cell_type": "markdown",
   "metadata": {},
   "source": [
    "## Task3\n",
    "### 3.1"
   ]
  },
  {
   "cell_type": "code",
   "execution_count": 10,
   "metadata": {},
   "outputs": [
    {
     "name": "stdout",
     "output_type": "stream",
     "text": [
      "{'name': 'John', 'age': 25}\n",
      "{'city': 'Moscow'}\n"
     ]
    }
   ],
   "source": [
    "def get_key(dict1: dict, keys: list=['name', 'age']) -> dict:\n",
    "    res = dict()\n",
    "    for i in keys:\n",
    "        if i in dict1.keys():\n",
    "            res[i] = dict1[i]\n",
    "    return res\n",
    "\n",
    "\n",
    "\n",
    "client_dict = {\n",
    "\t\"name\": \"John\",\n",
    "\t\"age\": 25,\n",
    "\t\"salary\": 5000,\n",
    "\t\"city\": \"Moscow\"\n",
    "}\n",
    "\n",
    "print(get_key(client_dict))\n",
    "print(get_key(client_dict, ['city']))\n"
   ]
  },
  {
   "cell_type": "markdown",
   "metadata": {},
   "source": [
    "### 3.2"
   ]
  },
  {
   "cell_type": "code",
   "execution_count": 11,
   "metadata": {},
   "outputs": [
    {
     "name": "stdout",
     "output_type": "stream",
     "text": [
      "{'name': 'John', 'age': 25}\n",
      "{'city': 'Moscow'}\n"
     ]
    }
   ],
   "source": [
    "def get_key(dict1: dict, keys: list=['name', 'age']) -> dict:\n",
    "    return {i: dict1[i] for i in keys if i in dict1.keys()}\n",
    "\n",
    "\n",
    "\n",
    "client_dict = {\n",
    "\t\"name\": \"John\",\n",
    "\t\"age\": 25,\n",
    "\t\"salary\": 5000,\n",
    "\t\"city\": \"Moscow\"\n",
    "}\n",
    "\n",
    "print(get_key(client_dict))\n",
    "print(get_key(client_dict, ['city']))\n"
   ]
  },
  {
   "cell_type": "code",
   "execution_count": 35,
   "metadata": {},
   "outputs": [
    {
     "name": "stdout",
     "output_type": "stream",
     "text": [
      "55 1\n",
      "Two 2\n",
      "Three 3\n"
     ]
    }
   ],
   "source": [
    "dict1 = {55: 1, 'Two': 2, 'Three': 3}\n",
    "for i in dict1:\n",
    "    print(i, dict1[i])\n"
   ]
  },
  {
   "cell_type": "markdown",
   "metadata": {},
   "source": [
    "## Task 4"
   ]
  },
  {
   "cell_type": "code",
   "execution_count": 12,
   "metadata": {},
   "outputs": [
    {
     "name": "stdout",
     "output_type": "stream",
     "text": [
      "[29, 47, 48, 16, 24]\n"
     ]
    }
   ],
   "source": [
    "import random\n",
    "random.seed(8)\n",
    "\n",
    "list1 = [random.randint(0, 100) for i in range(5)]\n",
    "print(list1)"
   ]
  },
  {
   "cell_type": "markdown",
   "metadata": {},
   "source": [
    "## Task5\n",
    "## 5.1"
   ]
  },
  {
   "cell_type": "markdown",
   "metadata": {},
   "source": [
    "<img src=https://webmg.ru/wp-content/uploads/2022/11/i-96-13.jpeg\n",
    "width = 500>"
   ]
  },
  {
   "cell_type": "markdown",
   "metadata": {},
   "source": [
    "<table>\n",
    "    <tr>\n",
    "        <td></td>\n",
    "        <td>До события</td>\n",
    "        <td>Во время события</td>\n",
    "    </tr>\n",
    "    <tr>\n",
    "        <td>1 КТ</td>\n",
    "        <td>250 </td>\n",
    "        <td>500 </td>\n",
    "    </tr>\n",
    "    <tr>\n",
    "        <td>2 КТ</td>\n",
    "        <td>350 </td>\n",
    "        <td>700 </td>\n",
    "    </tr>\n",
    "    <tr>\n",
    "        <td>3 КТ</td>\n",
    "        <td>400 </td>\n",
    "        <td>800 </td>\n",
    "    </tr>\n",
    "    <tr>\n",
    "        <td>Итого за победу</td>\n",
    "        <td>1000 </td>\n",
    "        <td>2000 </td>\n",
    "    </tr>\n",
    "</table>"
   ]
  },
  {
   "cell_type": "markdown",
   "metadata": {},
   "source": [
    "## Task6"
   ]
  },
  {
   "cell_type": "code",
   "execution_count": 13,
   "metadata": {
    "scrolled": true
   },
   "outputs": [
    {
     "name": "stdout",
     "output_type": "stream",
     "text": [
      "{'sum': 20, 'mean': 6.666666666666667}\n",
      "{'sum': 5, 'mean': 2.5}\n"
     ]
    }
   ],
   "source": [
    "def calc(*args):\n",
    "    sum_c = sum(args)\n",
    "    mean_c = sum_c / len(args)\n",
    "    return {'sum': sum_c,\n",
    "            'mean': mean_c}\n",
    "\n",
    "\n",
    "print(calc(5,7,8))\n",
    "print(calc(4,1))"
   ]
  },
  {
   "cell_type": "markdown",
   "metadata": {},
   "source": [
    "## gggkkkkkk"
   ]
  }
 ],
 "metadata": {
  "kernelspec": {
   "display_name": "Python 3 (ipykernel)",
   "language": "python",
   "name": "python3"
  },
  "language_info": {
   "codemirror_mode": {
    "name": "ipython",
    "version": 3
   },
   "file_extension": ".py",
   "mimetype": "text/x-python",
   "name": "python",
   "nbconvert_exporter": "python",
   "pygments_lexer": "ipython3",
   "version": "3.11.1"
  },
  "vscode": {
   "interpreter": {
    "hash": "86f65399b606217b0422ad4d60718a351e820c6c490ebf8e4ae3aa61b8797bcb"
   }
  }
 },
 "nbformat": 4,
 "nbformat_minor": 2
}
