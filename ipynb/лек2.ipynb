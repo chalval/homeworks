{
 "cells": [
  {
   "cell_type": "code",
   "execution_count": 48,
   "id": "c819337d",
   "metadata": {
    "pycharm": {
     "name": "#%%\n"
    }
   },
   "outputs": [],
   "source": [
    "import pandas as pd\n",
    "import numpy as np"
   ]
  },
  {
   "cell_type": "code",
   "execution_count": 49,
   "outputs": [],
   "source": [
    "a = pd.Series([4,7,6,3,9])"
   ],
   "metadata": {
    "collapsed": false,
    "pycharm": {
     "name": "#%%\n"
    }
   }
  },
  {
   "cell_type": "code",
   "execution_count": 50,
   "outputs": [
    {
     "data": {
      "text/plain": "0    4\n1    7\n2    6\n3    3\n4    9\ndtype: int64"
     },
     "execution_count": 50,
     "metadata": {},
     "output_type": "execute_result"
    }
   ],
   "source": [
    "a"
   ],
   "metadata": {
    "collapsed": false,
    "pycharm": {
     "name": "#%%\n"
    }
   }
  },
  {
   "cell_type": "code",
   "execution_count": 50,
   "outputs": [],
   "source": [],
   "metadata": {
    "collapsed": false,
    "pycharm": {
     "name": "#%%\n"
    }
   }
  },
  {
   "cell_type": "code",
   "execution_count": 51,
   "outputs": [
    {
     "data": {
      "text/plain": "0    4\n1    7\n2    6\n3    3\n4    9\ndtype: int64"
     },
     "execution_count": 51,
     "metadata": {},
     "output_type": "execute_result"
    }
   ],
   "source": [
    "a"
   ],
   "metadata": {
    "collapsed": false,
    "pycharm": {
     "name": "#%%\n"
    }
   }
  },
  {
   "cell_type": "code",
   "execution_count": 52,
   "outputs": [
    {
     "data": {
      "text/plain": "RangeIndex(start=0, stop=5, step=1)"
     },
     "execution_count": 52,
     "metadata": {},
     "output_type": "execute_result"
    }
   ],
   "source": [
    "a.index"
   ],
   "metadata": {
    "collapsed": false,
    "pycharm": {
     "name": "#%%\n"
    }
   }
  },
  {
   "cell_type": "code",
   "execution_count": 53,
   "outputs": [
    {
     "data": {
      "text/plain": "array([4, 7, 6, 3, 9], dtype=int64)"
     },
     "execution_count": 53,
     "metadata": {},
     "output_type": "execute_result"
    }
   ],
   "source": [
    "a.values"
   ],
   "metadata": {
    "collapsed": false,
    "pycharm": {
     "name": "#%%\n"
    }
   }
  },
  {
   "cell_type": "code",
   "execution_count": 54,
   "outputs": [],
   "source": [
    "df = pd.DataFrame({\n",
    "    'Age': [46, 37, 44, 42, 42],\n",
    "    'Country': ['Spain', 'Spain', 'Germany', 'Germany', 'France'],\n",
    "    'Gender': ['Female', 'Female', 'Male', 'Male', 'Male']\n",
    "})"
   ],
   "metadata": {
    "collapsed": false,
    "pycharm": {
     "name": "#%%\n"
    }
   }
  },
  {
   "cell_type": "code",
   "execution_count": 55,
   "outputs": [
    {
     "data": {
      "text/plain": "   Age  Country  Gender\n0   46    Spain  Female\n1   37    Spain  Female\n2   44  Germany    Male\n3   42  Germany    Male\n4   42   France    Male",
      "text/html": "<div>\n<style scoped>\n    .dataframe tbody tr th:only-of-type {\n        vertical-align: middle;\n    }\n\n    .dataframe tbody tr th {\n        vertical-align: top;\n    }\n\n    .dataframe thead th {\n        text-align: right;\n    }\n</style>\n<table border=\"1\" class=\"dataframe\">\n  <thead>\n    <tr style=\"text-align: right;\">\n      <th></th>\n      <th>Age</th>\n      <th>Country</th>\n      <th>Gender</th>\n    </tr>\n  </thead>\n  <tbody>\n    <tr>\n      <th>0</th>\n      <td>46</td>\n      <td>Spain</td>\n      <td>Female</td>\n    </tr>\n    <tr>\n      <th>1</th>\n      <td>37</td>\n      <td>Spain</td>\n      <td>Female</td>\n    </tr>\n    <tr>\n      <th>2</th>\n      <td>44</td>\n      <td>Germany</td>\n      <td>Male</td>\n    </tr>\n    <tr>\n      <th>3</th>\n      <td>42</td>\n      <td>Germany</td>\n      <td>Male</td>\n    </tr>\n    <tr>\n      <th>4</th>\n      <td>42</td>\n      <td>France</td>\n      <td>Male</td>\n    </tr>\n  </tbody>\n</table>\n</div>"
     },
     "execution_count": 55,
     "metadata": {},
     "output_type": "execute_result"
    }
   ],
   "source": [
    "df"
   ],
   "metadata": {
    "collapsed": false,
    "pycharm": {
     "name": "#%%\n"
    }
   }
  },
  {
   "cell_type": "code",
   "execution_count": 56,
   "outputs": [
    {
     "data": {
      "text/plain": "0    46\n1    37\n2    44\n3    42\n4    42\nName: Age, dtype: int64"
     },
     "execution_count": 56,
     "metadata": {},
     "output_type": "execute_result"
    }
   ],
   "source": [
    "df.Age"
   ],
   "metadata": {
    "collapsed": false,
    "pycharm": {
     "name": "#%%\n"
    }
   }
  },
  {
   "cell_type": "code",
   "execution_count": 57,
   "outputs": [
    {
     "data": {
      "text/plain": "   Country  Age\n0    Spain   46\n1    Spain   37\n2  Germany   44\n3  Germany   42\n4   France   42",
      "text/html": "<div>\n<style scoped>\n    .dataframe tbody tr th:only-of-type {\n        vertical-align: middle;\n    }\n\n    .dataframe tbody tr th {\n        vertical-align: top;\n    }\n\n    .dataframe thead th {\n        text-align: right;\n    }\n</style>\n<table border=\"1\" class=\"dataframe\">\n  <thead>\n    <tr style=\"text-align: right;\">\n      <th></th>\n      <th>Country</th>\n      <th>Age</th>\n    </tr>\n  </thead>\n  <tbody>\n    <tr>\n      <th>0</th>\n      <td>Spain</td>\n      <td>46</td>\n    </tr>\n    <tr>\n      <th>1</th>\n      <td>Spain</td>\n      <td>37</td>\n    </tr>\n    <tr>\n      <th>2</th>\n      <td>Germany</td>\n      <td>44</td>\n    </tr>\n    <tr>\n      <th>3</th>\n      <td>Germany</td>\n      <td>42</td>\n    </tr>\n    <tr>\n      <th>4</th>\n      <td>France</td>\n      <td>42</td>\n    </tr>\n  </tbody>\n</table>\n</div>"
     },
     "execution_count": 57,
     "metadata": {},
     "output_type": "execute_result"
    }
   ],
   "source": [
    "df[['Country', 'Age']]"
   ],
   "metadata": {
    "collapsed": false,
    "pycharm": {
     "name": "#%%\n"
    }
   }
  },
  {
   "cell_type": "code",
   "execution_count": 58,
   "outputs": [
    {
     "data": {
      "text/plain": "Index(['Age', 'Country', 'Gender'], dtype='object')"
     },
     "execution_count": 58,
     "metadata": {},
     "output_type": "execute_result"
    }
   ],
   "source": [
    "df.columns"
   ],
   "metadata": {
    "collapsed": false,
    "pycharm": {
     "name": "#%%\n"
    }
   }
  },
  {
   "cell_type": "code",
   "execution_count": 59,
   "outputs": [],
   "source": [
    "df.index = [101, 102, 103, 104, 105]"
   ],
   "metadata": {
    "collapsed": false,
    "pycharm": {
     "name": "#%%\n"
    }
   }
  },
  {
   "cell_type": "code",
   "execution_count": 60,
   "outputs": [
    {
     "data": {
      "text/plain": "     Age  Country  Gender\n101   46    Spain  Female\n102   37    Spain  Female\n103   44  Germany    Male\n104   42  Germany    Male\n105   42   France    Male",
      "text/html": "<div>\n<style scoped>\n    .dataframe tbody tr th:only-of-type {\n        vertical-align: middle;\n    }\n\n    .dataframe tbody tr th {\n        vertical-align: top;\n    }\n\n    .dataframe thead th {\n        text-align: right;\n    }\n</style>\n<table border=\"1\" class=\"dataframe\">\n  <thead>\n    <tr style=\"text-align: right;\">\n      <th></th>\n      <th>Age</th>\n      <th>Country</th>\n      <th>Gender</th>\n    </tr>\n  </thead>\n  <tbody>\n    <tr>\n      <th>101</th>\n      <td>46</td>\n      <td>Spain</td>\n      <td>Female</td>\n    </tr>\n    <tr>\n      <th>102</th>\n      <td>37</td>\n      <td>Spain</td>\n      <td>Female</td>\n    </tr>\n    <tr>\n      <th>103</th>\n      <td>44</td>\n      <td>Germany</td>\n      <td>Male</td>\n    </tr>\n    <tr>\n      <th>104</th>\n      <td>42</td>\n      <td>Germany</td>\n      <td>Male</td>\n    </tr>\n    <tr>\n      <th>105</th>\n      <td>42</td>\n      <td>France</td>\n      <td>Male</td>\n    </tr>\n  </tbody>\n</table>\n</div>"
     },
     "execution_count": 60,
     "metadata": {},
     "output_type": "execute_result"
    }
   ],
   "source": [
    "df"
   ],
   "metadata": {
    "collapsed": false,
    "pycharm": {
     "name": "#%%\n"
    }
   }
  },
  {
   "cell_type": "code",
   "execution_count": 104,
   "outputs": [
    {
     "data": {
      "text/plain": "      RowNumber  CustomerId    Surname  CreditScore Geography  Gender  Age  \\\n0             1    15634602   Hargrave          619    France  Female   42   \n1             2    15647311       Hill          608     Spain  Female   41   \n2             3    15619304       Onio          502    France  Female   42   \n3             4    15701354       Boni          699    France  Female   39   \n4             5    15737888   Mitchell          850     Spain  Female   43   \n...         ...         ...        ...          ...       ...     ...  ...   \n9995       9996    15606229   Obijiaku          771    France    Male   39   \n9996       9997    15569892  Johnstone          516    France    Male   35   \n9997       9998    15584532        Liu          709    France  Female   36   \n9998       9999    15682355  Sabbatini          772   Germany    Male   42   \n9999      10000    15628319     Walker          792    France  Female   28   \n\n      Tenure    Balance  NumOfProducts  HasCrCard  IsActiveMember  \\\n0          2       0.00              1          1               1   \n1          1   83807.86              1          0               1   \n2          8  159660.80              3          1               0   \n3          1       0.00              2          0               0   \n4          2  125510.82              1          1               1   \n...      ...        ...            ...        ...             ...   \n9995       5       0.00              2          1               0   \n9996      10   57369.61              1          1               1   \n9997       7       0.00              1          0               1   \n9998       3   75075.31              2          1               0   \n9999       4  130142.79              1          1               0   \n\n      EstimatedSalary  Exited  \n0           101348.88       1  \n1           112542.58       0  \n2           113931.57       1  \n3            93826.63       0  \n4            79084.10       0  \n...               ...     ...  \n9995         96270.64       0  \n9996        101699.77       0  \n9997         42085.58       1  \n9998         92888.52       1  \n9999         38190.78       0  \n\n[10000 rows x 14 columns]",
      "text/html": "<div>\n<style scoped>\n    .dataframe tbody tr th:only-of-type {\n        vertical-align: middle;\n    }\n\n    .dataframe tbody tr th {\n        vertical-align: top;\n    }\n\n    .dataframe thead th {\n        text-align: right;\n    }\n</style>\n<table border=\"1\" class=\"dataframe\">\n  <thead>\n    <tr style=\"text-align: right;\">\n      <th></th>\n      <th>RowNumber</th>\n      <th>CustomerId</th>\n      <th>Surname</th>\n      <th>CreditScore</th>\n      <th>Geography</th>\n      <th>Gender</th>\n      <th>Age</th>\n      <th>Tenure</th>\n      <th>Balance</th>\n      <th>NumOfProducts</th>\n      <th>HasCrCard</th>\n      <th>IsActiveMember</th>\n      <th>EstimatedSalary</th>\n      <th>Exited</th>\n    </tr>\n  </thead>\n  <tbody>\n    <tr>\n      <th>0</th>\n      <td>1</td>\n      <td>15634602</td>\n      <td>Hargrave</td>\n      <td>619</td>\n      <td>France</td>\n      <td>Female</td>\n      <td>42</td>\n      <td>2</td>\n      <td>0.00</td>\n      <td>1</td>\n      <td>1</td>\n      <td>1</td>\n      <td>101348.88</td>\n      <td>1</td>\n    </tr>\n    <tr>\n      <th>1</th>\n      <td>2</td>\n      <td>15647311</td>\n      <td>Hill</td>\n      <td>608</td>\n      <td>Spain</td>\n      <td>Female</td>\n      <td>41</td>\n      <td>1</td>\n      <td>83807.86</td>\n      <td>1</td>\n      <td>0</td>\n      <td>1</td>\n      <td>112542.58</td>\n      <td>0</td>\n    </tr>\n    <tr>\n      <th>2</th>\n      <td>3</td>\n      <td>15619304</td>\n      <td>Onio</td>\n      <td>502</td>\n      <td>France</td>\n      <td>Female</td>\n      <td>42</td>\n      <td>8</td>\n      <td>159660.80</td>\n      <td>3</td>\n      <td>1</td>\n      <td>0</td>\n      <td>113931.57</td>\n      <td>1</td>\n    </tr>\n    <tr>\n      <th>3</th>\n      <td>4</td>\n      <td>15701354</td>\n      <td>Boni</td>\n      <td>699</td>\n      <td>France</td>\n      <td>Female</td>\n      <td>39</td>\n      <td>1</td>\n      <td>0.00</td>\n      <td>2</td>\n      <td>0</td>\n      <td>0</td>\n      <td>93826.63</td>\n      <td>0</td>\n    </tr>\n    <tr>\n      <th>4</th>\n      <td>5</td>\n      <td>15737888</td>\n      <td>Mitchell</td>\n      <td>850</td>\n      <td>Spain</td>\n      <td>Female</td>\n      <td>43</td>\n      <td>2</td>\n      <td>125510.82</td>\n      <td>1</td>\n      <td>1</td>\n      <td>1</td>\n      <td>79084.10</td>\n      <td>0</td>\n    </tr>\n    <tr>\n      <th>...</th>\n      <td>...</td>\n      <td>...</td>\n      <td>...</td>\n      <td>...</td>\n      <td>...</td>\n      <td>...</td>\n      <td>...</td>\n      <td>...</td>\n      <td>...</td>\n      <td>...</td>\n      <td>...</td>\n      <td>...</td>\n      <td>...</td>\n      <td>...</td>\n    </tr>\n    <tr>\n      <th>9995</th>\n      <td>9996</td>\n      <td>15606229</td>\n      <td>Obijiaku</td>\n      <td>771</td>\n      <td>France</td>\n      <td>Male</td>\n      <td>39</td>\n      <td>5</td>\n      <td>0.00</td>\n      <td>2</td>\n      <td>1</td>\n      <td>0</td>\n      <td>96270.64</td>\n      <td>0</td>\n    </tr>\n    <tr>\n      <th>9996</th>\n      <td>9997</td>\n      <td>15569892</td>\n      <td>Johnstone</td>\n      <td>516</td>\n      <td>France</td>\n      <td>Male</td>\n      <td>35</td>\n      <td>10</td>\n      <td>57369.61</td>\n      <td>1</td>\n      <td>1</td>\n      <td>1</td>\n      <td>101699.77</td>\n      <td>0</td>\n    </tr>\n    <tr>\n      <th>9997</th>\n      <td>9998</td>\n      <td>15584532</td>\n      <td>Liu</td>\n      <td>709</td>\n      <td>France</td>\n      <td>Female</td>\n      <td>36</td>\n      <td>7</td>\n      <td>0.00</td>\n      <td>1</td>\n      <td>0</td>\n      <td>1</td>\n      <td>42085.58</td>\n      <td>1</td>\n    </tr>\n    <tr>\n      <th>9998</th>\n      <td>9999</td>\n      <td>15682355</td>\n      <td>Sabbatini</td>\n      <td>772</td>\n      <td>Germany</td>\n      <td>Male</td>\n      <td>42</td>\n      <td>3</td>\n      <td>75075.31</td>\n      <td>2</td>\n      <td>1</td>\n      <td>0</td>\n      <td>92888.52</td>\n      <td>1</td>\n    </tr>\n    <tr>\n      <th>9999</th>\n      <td>10000</td>\n      <td>15628319</td>\n      <td>Walker</td>\n      <td>792</td>\n      <td>France</td>\n      <td>Female</td>\n      <td>28</td>\n      <td>4</td>\n      <td>130142.79</td>\n      <td>1</td>\n      <td>1</td>\n      <td>0</td>\n      <td>38190.78</td>\n      <td>0</td>\n    </tr>\n  </tbody>\n</table>\n<p>10000 rows × 14 columns</p>\n</div>"
     },
     "execution_count": 104,
     "metadata": {},
     "output_type": "execute_result"
    }
   ],
   "source": [
    "#df = pd.read_csv('c:/1/Churn_Modelling.csv')\n",
    "df = pd.read_csv('./Churn_Modelling.csv')\n",
    "df"
   ],
   "metadata": {
    "collapsed": false,
    "pycharm": {
     "name": "#%%\n"
    }
   }
  },
  {
   "cell_type": "code",
   "execution_count": 105,
   "outputs": [
    {
     "data": {
      "text/plain": "      RowNumber  CustomerId    Surname  CreditScore Geography  Gender  Age  \\\n9998       9999    15682355  Sabbatini          772   Germany    Male   42   \n9999      10000    15628319     Walker          792    France  Female   28   \n\n      Tenure    Balance  NumOfProducts  HasCrCard  IsActiveMember  \\\n9998       3   75075.31              2          1               0   \n9999       4  130142.79              1          1               0   \n\n      EstimatedSalary  Exited  \n9998         92888.52       1  \n9999         38190.78       0  ",
      "text/html": "<div>\n<style scoped>\n    .dataframe tbody tr th:only-of-type {\n        vertical-align: middle;\n    }\n\n    .dataframe tbody tr th {\n        vertical-align: top;\n    }\n\n    .dataframe thead th {\n        text-align: right;\n    }\n</style>\n<table border=\"1\" class=\"dataframe\">\n  <thead>\n    <tr style=\"text-align: right;\">\n      <th></th>\n      <th>RowNumber</th>\n      <th>CustomerId</th>\n      <th>Surname</th>\n      <th>CreditScore</th>\n      <th>Geography</th>\n      <th>Gender</th>\n      <th>Age</th>\n      <th>Tenure</th>\n      <th>Balance</th>\n      <th>NumOfProducts</th>\n      <th>HasCrCard</th>\n      <th>IsActiveMember</th>\n      <th>EstimatedSalary</th>\n      <th>Exited</th>\n    </tr>\n  </thead>\n  <tbody>\n    <tr>\n      <th>9998</th>\n      <td>9999</td>\n      <td>15682355</td>\n      <td>Sabbatini</td>\n      <td>772</td>\n      <td>Germany</td>\n      <td>Male</td>\n      <td>42</td>\n      <td>3</td>\n      <td>75075.31</td>\n      <td>2</td>\n      <td>1</td>\n      <td>0</td>\n      <td>92888.52</td>\n      <td>1</td>\n    </tr>\n    <tr>\n      <th>9999</th>\n      <td>10000</td>\n      <td>15628319</td>\n      <td>Walker</td>\n      <td>792</td>\n      <td>France</td>\n      <td>Female</td>\n      <td>28</td>\n      <td>4</td>\n      <td>130142.79</td>\n      <td>1</td>\n      <td>1</td>\n      <td>0</td>\n      <td>38190.78</td>\n      <td>0</td>\n    </tr>\n  </tbody>\n</table>\n</div>"
     },
     "execution_count": 105,
     "metadata": {},
     "output_type": "execute_result"
    }
   ],
   "source": [
    "df.tail(2)"
   ],
   "metadata": {
    "collapsed": false,
    "pycharm": {
     "name": "#%%\n"
    }
   }
  },
  {
   "cell_type": "code",
   "execution_count": 63,
   "outputs": [
    {
     "data": {
      "text/plain": "      RowNumber  CustomerId Surname  CreditScore Geography Gender  Age  \\\n5784       5785    15738063    Shen          631    France   Male   29   \n\n      Tenure  Balance  NumOfProducts  HasCrCard  IsActiveMember  \\\n5784       2      0.0              2          1               1   \n\n      EstimatedSalary  Exited  \n5784         18581.84       0  ",
      "text/html": "<div>\n<style scoped>\n    .dataframe tbody tr th:only-of-type {\n        vertical-align: middle;\n    }\n\n    .dataframe tbody tr th {\n        vertical-align: top;\n    }\n\n    .dataframe thead th {\n        text-align: right;\n    }\n</style>\n<table border=\"1\" class=\"dataframe\">\n  <thead>\n    <tr style=\"text-align: right;\">\n      <th></th>\n      <th>RowNumber</th>\n      <th>CustomerId</th>\n      <th>Surname</th>\n      <th>CreditScore</th>\n      <th>Geography</th>\n      <th>Gender</th>\n      <th>Age</th>\n      <th>Tenure</th>\n      <th>Balance</th>\n      <th>NumOfProducts</th>\n      <th>HasCrCard</th>\n      <th>IsActiveMember</th>\n      <th>EstimatedSalary</th>\n      <th>Exited</th>\n    </tr>\n  </thead>\n  <tbody>\n    <tr>\n      <th>5784</th>\n      <td>5785</td>\n      <td>15738063</td>\n      <td>Shen</td>\n      <td>631</td>\n      <td>France</td>\n      <td>Male</td>\n      <td>29</td>\n      <td>2</td>\n      <td>0.0</td>\n      <td>2</td>\n      <td>1</td>\n      <td>1</td>\n      <td>18581.84</td>\n      <td>0</td>\n    </tr>\n  </tbody>\n</table>\n</div>"
     },
     "execution_count": 63,
     "metadata": {},
     "output_type": "execute_result"
    }
   ],
   "source": [
    "df.sample()"
   ],
   "metadata": {
    "collapsed": false,
    "pycharm": {
     "name": "#%%\n"
    }
   }
  },
  {
   "cell_type": "code",
   "execution_count": 64,
   "outputs": [
    {
     "data": {
      "text/plain": "      RowNumber  CustomerId  Surname  CreditScore Geography  Gender  Age  \\\n8402       8403    15766683  Coombes          549   Germany    Male   36   \n5397       5398    15638513  Palermo          723    France  Female   40   \n4917       4918    15681991    Walsh          542    France    Male   32   \n994         995    15623521  Sozonov          838     Spain    Male   43   \n4933       4934    15787597      Hsu          420   Germany  Female   31   \n\n      Tenure    Balance  NumOfProducts  HasCrCard  IsActiveMember  \\\n8402       6  139422.37              1          0               0   \n5397       7  142856.95              2          0               0   \n4917       7  107871.72              1          1               0   \n994        9  123105.88              2          1               0   \n4933       1  108377.75              2          1               1   \n\n      EstimatedSalary  Exited  \n8402         83983.39       1  \n5397         38019.74       0  \n4917        125302.64       0  \n994         145765.83       0  \n4933          9904.63       0  ",
      "text/html": "<div>\n<style scoped>\n    .dataframe tbody tr th:only-of-type {\n        vertical-align: middle;\n    }\n\n    .dataframe tbody tr th {\n        vertical-align: top;\n    }\n\n    .dataframe thead th {\n        text-align: right;\n    }\n</style>\n<table border=\"1\" class=\"dataframe\">\n  <thead>\n    <tr style=\"text-align: right;\">\n      <th></th>\n      <th>RowNumber</th>\n      <th>CustomerId</th>\n      <th>Surname</th>\n      <th>CreditScore</th>\n      <th>Geography</th>\n      <th>Gender</th>\n      <th>Age</th>\n      <th>Tenure</th>\n      <th>Balance</th>\n      <th>NumOfProducts</th>\n      <th>HasCrCard</th>\n      <th>IsActiveMember</th>\n      <th>EstimatedSalary</th>\n      <th>Exited</th>\n    </tr>\n  </thead>\n  <tbody>\n    <tr>\n      <th>8402</th>\n      <td>8403</td>\n      <td>15766683</td>\n      <td>Coombes</td>\n      <td>549</td>\n      <td>Germany</td>\n      <td>Male</td>\n      <td>36</td>\n      <td>6</td>\n      <td>139422.37</td>\n      <td>1</td>\n      <td>0</td>\n      <td>0</td>\n      <td>83983.39</td>\n      <td>1</td>\n    </tr>\n    <tr>\n      <th>5397</th>\n      <td>5398</td>\n      <td>15638513</td>\n      <td>Palermo</td>\n      <td>723</td>\n      <td>France</td>\n      <td>Female</td>\n      <td>40</td>\n      <td>7</td>\n      <td>142856.95</td>\n      <td>2</td>\n      <td>0</td>\n      <td>0</td>\n      <td>38019.74</td>\n      <td>0</td>\n    </tr>\n    <tr>\n      <th>4917</th>\n      <td>4918</td>\n      <td>15681991</td>\n      <td>Walsh</td>\n      <td>542</td>\n      <td>France</td>\n      <td>Male</td>\n      <td>32</td>\n      <td>7</td>\n      <td>107871.72</td>\n      <td>1</td>\n      <td>1</td>\n      <td>0</td>\n      <td>125302.64</td>\n      <td>0</td>\n    </tr>\n    <tr>\n      <th>994</th>\n      <td>995</td>\n      <td>15623521</td>\n      <td>Sozonov</td>\n      <td>838</td>\n      <td>Spain</td>\n      <td>Male</td>\n      <td>43</td>\n      <td>9</td>\n      <td>123105.88</td>\n      <td>2</td>\n      <td>1</td>\n      <td>0</td>\n      <td>145765.83</td>\n      <td>0</td>\n    </tr>\n    <tr>\n      <th>4933</th>\n      <td>4934</td>\n      <td>15787597</td>\n      <td>Hsu</td>\n      <td>420</td>\n      <td>Germany</td>\n      <td>Female</td>\n      <td>31</td>\n      <td>1</td>\n      <td>108377.75</td>\n      <td>2</td>\n      <td>1</td>\n      <td>1</td>\n      <td>9904.63</td>\n      <td>0</td>\n    </tr>\n  </tbody>\n</table>\n</div>"
     },
     "execution_count": 64,
     "metadata": {},
     "output_type": "execute_result"
    }
   ],
   "source": [
    "df.sample(frac=0.0005)"
   ],
   "metadata": {
    "collapsed": false,
    "pycharm": {
     "name": "#%%\n"
    }
   }
  },
  {
   "cell_type": "code",
   "execution_count": 65,
   "outputs": [
    {
     "data": {
      "text/plain": "(10000, 14)"
     },
     "execution_count": 65,
     "metadata": {},
     "output_type": "execute_result"
    }
   ],
   "source": [
    "df.shape"
   ],
   "metadata": {
    "collapsed": false,
    "pycharm": {
     "name": "#%%\n"
    }
   }
  },
  {
   "cell_type": "code",
   "execution_count": 66,
   "outputs": [
    {
     "name": "stdout",
     "output_type": "stream",
     "text": [
      "<class 'pandas.core.frame.DataFrame'>\n",
      "RangeIndex: 10000 entries, 0 to 9999\n",
      "Data columns (total 14 columns):\n",
      " #   Column           Non-Null Count  Dtype  \n",
      "---  ------           --------------  -----  \n",
      " 0   RowNumber        10000 non-null  int64  \n",
      " 1   CustomerId       10000 non-null  int64  \n",
      " 2   Surname          10000 non-null  object \n",
      " 3   CreditScore      10000 non-null  int64  \n",
      " 4   Geography        10000 non-null  object \n",
      " 5   Gender           10000 non-null  object \n",
      " 6   Age              10000 non-null  int64  \n",
      " 7   Tenure           10000 non-null  int64  \n",
      " 8   Balance          10000 non-null  float64\n",
      " 9   NumOfProducts    10000 non-null  int64  \n",
      " 10  HasCrCard        10000 non-null  int64  \n",
      " 11  IsActiveMember   10000 non-null  int64  \n",
      " 12  EstimatedSalary  10000 non-null  float64\n",
      " 13  Exited           10000 non-null  int64  \n",
      "dtypes: float64(2), int64(9), object(3)\n",
      "memory usage: 1.1+ MB\n",
      "CPU times: total: 0 ns\n",
      "Wall time: 15.6 ms\n"
     ]
    }
   ],
   "source": [
    "%%time\n",
    "df.info()"
   ],
   "metadata": {
    "collapsed": false,
    "pycharm": {
     "name": "#%%\n"
    }
   }
  },
  {
   "cell_type": "code",
   "execution_count": 102,
   "outputs": [
    {
     "data": {
      "text/plain": "       Surname Geography Gender\ncount    10000     10000  10000\nunique    2932         3      2\ntop      Smith    France   Male\nfreq        32      5014   5457",
      "text/html": "<div>\n<style scoped>\n    .dataframe tbody tr th:only-of-type {\n        vertical-align: middle;\n    }\n\n    .dataframe tbody tr th {\n        vertical-align: top;\n    }\n\n    .dataframe thead th {\n        text-align: right;\n    }\n</style>\n<table border=\"1\" class=\"dataframe\">\n  <thead>\n    <tr style=\"text-align: right;\">\n      <th></th>\n      <th>Surname</th>\n      <th>Geography</th>\n      <th>Gender</th>\n    </tr>\n  </thead>\n  <tbody>\n    <tr>\n      <th>count</th>\n      <td>10000</td>\n      <td>10000</td>\n      <td>10000</td>\n    </tr>\n    <tr>\n      <th>unique</th>\n      <td>2932</td>\n      <td>3</td>\n      <td>2</td>\n    </tr>\n    <tr>\n      <th>top</th>\n      <td>Smith</td>\n      <td>France</td>\n      <td>Male</td>\n    </tr>\n    <tr>\n      <th>freq</th>\n      <td>32</td>\n      <td>5014</td>\n      <td>5457</td>\n    </tr>\n  </tbody>\n</table>\n</div>"
     },
     "execution_count": 102,
     "metadata": {},
     "output_type": "execute_result"
    }
   ],
   "source": [
    "df.describe(include=['object'])"
   ],
   "metadata": {
    "collapsed": false,
    "pycharm": {
     "name": "#%%\n"
    }
   }
  },
  {
   "cell_type": "code",
   "execution_count": 68,
   "outputs": [
    {
     "data": {
      "text/plain": "pandas.core.frame.DataFrame"
     },
     "execution_count": 68,
     "metadata": {},
     "output_type": "execute_result"
    }
   ],
   "source": [
    "type(df)"
   ],
   "metadata": {
    "collapsed": false,
    "pycharm": {
     "name": "#%%\n"
    }
   }
  },
  {
   "cell_type": "code",
   "execution_count": 69,
   "outputs": [
    {
     "data": {
      "text/plain": "Age    331\ndtype: int64"
     },
     "execution_count": 69,
     "metadata": {},
     "output_type": "execute_result"
    }
   ],
   "source": [
    "7+ df[['Age']].min()**2"
   ],
   "metadata": {
    "collapsed": false,
    "pycharm": {
     "name": "#%%\n"
    }
   }
  },
  {
   "cell_type": "code",
   "execution_count": 70,
   "outputs": [
    {
     "data": {
      "text/plain": "324"
     },
     "execution_count": 70,
     "metadata": {},
     "output_type": "execute_result"
    }
   ],
   "source": [
    "df['Age'].min()**2"
   ],
   "metadata": {
    "collapsed": false,
    "pycharm": {
     "name": "#%%\n"
    }
   }
  },
  {
   "cell_type": "code",
   "execution_count": 71,
   "outputs": [
    {
     "data": {
      "text/plain": "       Surname Geography Gender\ncount    10000     10000  10000\nunique    2932         3      2\ntop      Smith    France   Male\nfreq        32      5014   5457",
      "text/html": "<div>\n<style scoped>\n    .dataframe tbody tr th:only-of-type {\n        vertical-align: middle;\n    }\n\n    .dataframe tbody tr th {\n        vertical-align: top;\n    }\n\n    .dataframe thead th {\n        text-align: right;\n    }\n</style>\n<table border=\"1\" class=\"dataframe\">\n  <thead>\n    <tr style=\"text-align: right;\">\n      <th></th>\n      <th>Surname</th>\n      <th>Geography</th>\n      <th>Gender</th>\n    </tr>\n  </thead>\n  <tbody>\n    <tr>\n      <th>count</th>\n      <td>10000</td>\n      <td>10000</td>\n      <td>10000</td>\n    </tr>\n    <tr>\n      <th>unique</th>\n      <td>2932</td>\n      <td>3</td>\n      <td>2</td>\n    </tr>\n    <tr>\n      <th>top</th>\n      <td>Smith</td>\n      <td>France</td>\n      <td>Male</td>\n    </tr>\n    <tr>\n      <th>freq</th>\n      <td>32</td>\n      <td>5014</td>\n      <td>5457</td>\n    </tr>\n  </tbody>\n</table>\n</div>"
     },
     "execution_count": 71,
     "metadata": {},
     "output_type": "execute_result"
    }
   ],
   "source": [
    "df.describe(include=['object'])"
   ],
   "metadata": {
    "collapsed": false,
    "pycharm": {
     "name": "#%%\n"
    }
   }
  },
  {
   "cell_type": "code",
   "execution_count": 72,
   "outputs": [
    {
     "data": {
      "text/plain": "       Surname Geography Gender\ncount    10000     10000  10000\nunique    2932         3      2\ntop      Smith    France   Male\nfreq        32      5014   5457",
      "text/html": "<div>\n<style scoped>\n    .dataframe tbody tr th:only-of-type {\n        vertical-align: middle;\n    }\n\n    .dataframe tbody tr th {\n        vertical-align: top;\n    }\n\n    .dataframe thead th {\n        text-align: right;\n    }\n</style>\n<table border=\"1\" class=\"dataframe\">\n  <thead>\n    <tr style=\"text-align: right;\">\n      <th></th>\n      <th>Surname</th>\n      <th>Geography</th>\n      <th>Gender</th>\n    </tr>\n  </thead>\n  <tbody>\n    <tr>\n      <th>count</th>\n      <td>10000</td>\n      <td>10000</td>\n      <td>10000</td>\n    </tr>\n    <tr>\n      <th>unique</th>\n      <td>2932</td>\n      <td>3</td>\n      <td>2</td>\n    </tr>\n    <tr>\n      <th>top</th>\n      <td>Smith</td>\n      <td>France</td>\n      <td>Male</td>\n    </tr>\n    <tr>\n      <th>freq</th>\n      <td>32</td>\n      <td>5014</td>\n      <td>5457</td>\n    </tr>\n  </tbody>\n</table>\n</div>"
     },
     "execution_count": 72,
     "metadata": {},
     "output_type": "execute_result"
    }
   ],
   "source": [
    "df.describe(include=['object'])"
   ],
   "metadata": {
    "collapsed": false,
    "pycharm": {
     "name": "#%%\n"
    }
   }
  },
  {
   "cell_type": "code",
   "execution_count": 73,
   "outputs": [
    {
     "data": {
      "text/plain": "RowNumber            int64\nCustomerId           int64\nSurname             object\nCreditScore          int64\nGeography           object\nGender              object\nAge                  int64\nTenure               int64\nBalance            float64\nNumOfProducts        int64\nHasCrCard            int64\nIsActiveMember       int64\nEstimatedSalary    float64\nExited               int64\ndtype: object"
     },
     "execution_count": 73,
     "metadata": {},
     "output_type": "execute_result"
    }
   ],
   "source": [
    "df.dtypes"
   ],
   "metadata": {
    "collapsed": false,
    "pycharm": {
     "name": "#%%\n"
    }
   }
  },
  {
   "cell_type": "code",
   "execution_count": 74,
   "outputs": [
    {
     "data": {
      "text/plain": "0        True\n1       False\n2        True\n3       False\n4        True\n        ...  \n9995     True\n9996     True\n9997    False\n9998     True\n9999     True\nName: HasCrCard, Length: 10000, dtype: bool"
     },
     "execution_count": 74,
     "metadata": {},
     "output_type": "execute_result"
    }
   ],
   "source": [
    "df['HasCrCard'].astype('bool')"
   ],
   "metadata": {
    "collapsed": false,
    "pycharm": {
     "name": "#%%\n"
    }
   }
  },
  {
   "cell_type": "code",
   "execution_count": 75,
   "outputs": [],
   "source": [
    "df['HasCrCard'] = df['HasCrCard'].astype('bool')"
   ],
   "metadata": {
    "collapsed": false,
    "pycharm": {
     "name": "#%%\n"
    }
   }
  },
  {
   "cell_type": "code",
   "execution_count": 76,
   "outputs": [
    {
     "data": {
      "text/plain": "dtype('bool')"
     },
     "execution_count": 76,
     "metadata": {},
     "output_type": "execute_result"
    }
   ],
   "source": [
    "df['HasCrCard'].dtype"
   ],
   "metadata": {
    "collapsed": false,
    "pycharm": {
     "name": "#%%\n"
    }
   }
  },
  {
   "cell_type": "code",
   "execution_count": 77,
   "outputs": [
    {
     "data": {
      "text/plain": "array(['France', 'Spain', 'Germany'], dtype=object)"
     },
     "execution_count": 77,
     "metadata": {},
     "output_type": "execute_result"
    }
   ],
   "source": [
    "df['Geography'].unique()"
   ],
   "metadata": {
    "collapsed": false,
    "pycharm": {
     "name": "#%%\n"
    }
   }
  },
  {
   "cell_type": "code",
   "execution_count": 78,
   "outputs": [
    {
     "data": {
      "text/plain": "Geography    3\ndtype: int64"
     },
     "execution_count": 78,
     "metadata": {},
     "output_type": "execute_result"
    }
   ],
   "source": [
    "df[['Geography']].nunique()"
   ],
   "metadata": {
    "collapsed": false,
    "pycharm": {
     "name": "#%%\n"
    }
   }
  },
  {
   "cell_type": "code",
   "execution_count": 79,
   "outputs": [
    {
     "data": {
      "text/plain": "France     5014\nGermany    2509\nSpain      2477\nName: Geography, dtype: int64"
     },
     "execution_count": 79,
     "metadata": {},
     "output_type": "execute_result"
    }
   ],
   "source": [
    "df['Geography'].value_counts()"
   ],
   "metadata": {
    "collapsed": false,
    "pycharm": {
     "name": "#%%\n"
    }
   }
  },
  {
   "cell_type": "code",
   "execution_count": 80,
   "outputs": [
    {
     "data": {
      "text/plain": "France     0.5014\nGermany    0.2509\nSpain      0.2477\nName: Geography, dtype: float64"
     },
     "execution_count": 80,
     "metadata": {},
     "output_type": "execute_result"
    }
   ],
   "source": [
    "df['Geography'].value_counts(normalize=True)"
   ],
   "metadata": {
    "collapsed": false,
    "pycharm": {
     "name": "#%%\n"
    }
   }
  },
  {
   "cell_type": "code",
   "execution_count": 81,
   "outputs": [
    {
     "data": {
      "text/plain": "France     5014\nGermany    2509\nSpain      2477\nName: Geography, dtype: int64"
     },
     "execution_count": 81,
     "metadata": {},
     "output_type": "execute_result"
    }
   ],
   "source": [
    "df['Geography'].value_counts()"
   ],
   "metadata": {
    "collapsed": false,
    "pycharm": {
     "name": "#%%\n"
    }
   }
  },
  {
   "cell_type": "code",
   "execution_count": 82,
   "outputs": [
    {
     "data": {
      "text/plain": "0       False\n1       False\n2       False\n3       False\n4       False\n        ...  \n9995     True\n9996     True\n9997    False\n9998     True\n9999    False\nName: Gender, Length: 10000, dtype: bool"
     },
     "execution_count": 82,
     "metadata": {},
     "output_type": "execute_result"
    }
   ],
   "source": [
    "df['Gender'] == 'Male'"
   ],
   "metadata": {
    "collapsed": false,
    "pycharm": {
     "name": "#%%\n"
    }
   }
  },
  {
   "cell_type": "code",
   "execution_count": 83,
   "outputs": [],
   "source": [
    "male = df[df['Gender'] == 'Male']"
   ],
   "metadata": {
    "collapsed": false,
    "pycharm": {
     "name": "#%%\n"
    }
   }
  },
  {
   "cell_type": "code",
   "execution_count": 84,
   "outputs": [
    {
     "data": {
      "text/plain": "      RowNumber  CustomerId      Surname  CreditScore Geography Gender  Age  \\\n5             6    15574012          Chu          645     Spain   Male   44   \n6             7    15592531     Bartlett          822    France   Male   50   \n8             9    15792365           He          501    France   Male   44   \n9            10    15592389           H?          684    France   Male   27   \n10           11    15767821       Bearce          528    France   Male   31   \n...         ...         ...          ...          ...       ...    ...  ...   \n9992       9993    15657105  Chukwualuka          726     Spain   Male   36   \n9993       9994    15569266       Rahman          644    France   Male   28   \n9995       9996    15606229     Obijiaku          771    France   Male   39   \n9996       9997    15569892    Johnstone          516    France   Male   35   \n9998       9999    15682355    Sabbatini          772   Germany   Male   42   \n\n      Tenure    Balance  NumOfProducts  HasCrCard  IsActiveMember  \\\n5          8  113755.78              2       True               0   \n6          7       0.00              2       True               1   \n8          4  142051.07              2      False               1   \n9          2  134603.88              1       True               1   \n10         6  102016.72              2      False               0   \n...      ...        ...            ...        ...             ...   \n9992       2       0.00              1       True               0   \n9993       7  155060.41              1       True               0   \n9995       5       0.00              2       True               0   \n9996      10   57369.61              1       True               1   \n9998       3   75075.31              2       True               0   \n\n      EstimatedSalary  Exited  \n5           149756.71       1  \n6            10062.80       0  \n8            74940.50       0  \n9            71725.73       0  \n10           80181.12       0  \n...               ...     ...  \n9992        195192.40       0  \n9993         29179.52       0  \n9995         96270.64       0  \n9996        101699.77       0  \n9998         92888.52       1  \n\n[5457 rows x 14 columns]",
      "text/html": "<div>\n<style scoped>\n    .dataframe tbody tr th:only-of-type {\n        vertical-align: middle;\n    }\n\n    .dataframe tbody tr th {\n        vertical-align: top;\n    }\n\n    .dataframe thead th {\n        text-align: right;\n    }\n</style>\n<table border=\"1\" class=\"dataframe\">\n  <thead>\n    <tr style=\"text-align: right;\">\n      <th></th>\n      <th>RowNumber</th>\n      <th>CustomerId</th>\n      <th>Surname</th>\n      <th>CreditScore</th>\n      <th>Geography</th>\n      <th>Gender</th>\n      <th>Age</th>\n      <th>Tenure</th>\n      <th>Balance</th>\n      <th>NumOfProducts</th>\n      <th>HasCrCard</th>\n      <th>IsActiveMember</th>\n      <th>EstimatedSalary</th>\n      <th>Exited</th>\n    </tr>\n  </thead>\n  <tbody>\n    <tr>\n      <th>5</th>\n      <td>6</td>\n      <td>15574012</td>\n      <td>Chu</td>\n      <td>645</td>\n      <td>Spain</td>\n      <td>Male</td>\n      <td>44</td>\n      <td>8</td>\n      <td>113755.78</td>\n      <td>2</td>\n      <td>True</td>\n      <td>0</td>\n      <td>149756.71</td>\n      <td>1</td>\n    </tr>\n    <tr>\n      <th>6</th>\n      <td>7</td>\n      <td>15592531</td>\n      <td>Bartlett</td>\n      <td>822</td>\n      <td>France</td>\n      <td>Male</td>\n      <td>50</td>\n      <td>7</td>\n      <td>0.00</td>\n      <td>2</td>\n      <td>True</td>\n      <td>1</td>\n      <td>10062.80</td>\n      <td>0</td>\n    </tr>\n    <tr>\n      <th>8</th>\n      <td>9</td>\n      <td>15792365</td>\n      <td>He</td>\n      <td>501</td>\n      <td>France</td>\n      <td>Male</td>\n      <td>44</td>\n      <td>4</td>\n      <td>142051.07</td>\n      <td>2</td>\n      <td>False</td>\n      <td>1</td>\n      <td>74940.50</td>\n      <td>0</td>\n    </tr>\n    <tr>\n      <th>9</th>\n      <td>10</td>\n      <td>15592389</td>\n      <td>H?</td>\n      <td>684</td>\n      <td>France</td>\n      <td>Male</td>\n      <td>27</td>\n      <td>2</td>\n      <td>134603.88</td>\n      <td>1</td>\n      <td>True</td>\n      <td>1</td>\n      <td>71725.73</td>\n      <td>0</td>\n    </tr>\n    <tr>\n      <th>10</th>\n      <td>11</td>\n      <td>15767821</td>\n      <td>Bearce</td>\n      <td>528</td>\n      <td>France</td>\n      <td>Male</td>\n      <td>31</td>\n      <td>6</td>\n      <td>102016.72</td>\n      <td>2</td>\n      <td>False</td>\n      <td>0</td>\n      <td>80181.12</td>\n      <td>0</td>\n    </tr>\n    <tr>\n      <th>...</th>\n      <td>...</td>\n      <td>...</td>\n      <td>...</td>\n      <td>...</td>\n      <td>...</td>\n      <td>...</td>\n      <td>...</td>\n      <td>...</td>\n      <td>...</td>\n      <td>...</td>\n      <td>...</td>\n      <td>...</td>\n      <td>...</td>\n      <td>...</td>\n    </tr>\n    <tr>\n      <th>9992</th>\n      <td>9993</td>\n      <td>15657105</td>\n      <td>Chukwualuka</td>\n      <td>726</td>\n      <td>Spain</td>\n      <td>Male</td>\n      <td>36</td>\n      <td>2</td>\n      <td>0.00</td>\n      <td>1</td>\n      <td>True</td>\n      <td>0</td>\n      <td>195192.40</td>\n      <td>0</td>\n    </tr>\n    <tr>\n      <th>9993</th>\n      <td>9994</td>\n      <td>15569266</td>\n      <td>Rahman</td>\n      <td>644</td>\n      <td>France</td>\n      <td>Male</td>\n      <td>28</td>\n      <td>7</td>\n      <td>155060.41</td>\n      <td>1</td>\n      <td>True</td>\n      <td>0</td>\n      <td>29179.52</td>\n      <td>0</td>\n    </tr>\n    <tr>\n      <th>9995</th>\n      <td>9996</td>\n      <td>15606229</td>\n      <td>Obijiaku</td>\n      <td>771</td>\n      <td>France</td>\n      <td>Male</td>\n      <td>39</td>\n      <td>5</td>\n      <td>0.00</td>\n      <td>2</td>\n      <td>True</td>\n      <td>0</td>\n      <td>96270.64</td>\n      <td>0</td>\n    </tr>\n    <tr>\n      <th>9996</th>\n      <td>9997</td>\n      <td>15569892</td>\n      <td>Johnstone</td>\n      <td>516</td>\n      <td>France</td>\n      <td>Male</td>\n      <td>35</td>\n      <td>10</td>\n      <td>57369.61</td>\n      <td>1</td>\n      <td>True</td>\n      <td>1</td>\n      <td>101699.77</td>\n      <td>0</td>\n    </tr>\n    <tr>\n      <th>9998</th>\n      <td>9999</td>\n      <td>15682355</td>\n      <td>Sabbatini</td>\n      <td>772</td>\n      <td>Germany</td>\n      <td>Male</td>\n      <td>42</td>\n      <td>3</td>\n      <td>75075.31</td>\n      <td>2</td>\n      <td>True</td>\n      <td>0</td>\n      <td>92888.52</td>\n      <td>1</td>\n    </tr>\n  </tbody>\n</table>\n<p>5457 rows × 14 columns</p>\n</div>"
     },
     "execution_count": 84,
     "metadata": {},
     "output_type": "execute_result"
    }
   ],
   "source": [
    "male"
   ],
   "metadata": {
    "collapsed": false,
    "pycharm": {
     "name": "#%%\n"
    }
   }
  },
  {
   "cell_type": "code",
   "execution_count": 85,
   "outputs": [
    {
     "data": {
      "text/plain": "      RowNumber  CustomerId      Surname  CreditScore Geography  Gender  Age  \\\n923         924    15601026    Gallagher          572   Germany  Female   19   \n1678       1679    15569178    Kharlamov          570    France  Female   18   \n2021       2022    15795519     Vasiliev          716   Germany  Female   18   \n2669       2670    15693947     Tokareva          614    France  Female   19   \n3239       3240    15776844          Hao          762     Spain  Female   19   \n3295       3296    15654296      Estrada          754     Spain  Female   19   \n4218       4219    15782418           Ku          589   Germany  Female   19   \n4330       4331    15666652    Anayolisa          781    France  Female   19   \n4556       4557    15796231      Nwankwo          681    France  Female   18   \n4727       4728    15641822       Barese          648    France  Female   19   \n6319       6320    15768340      Beavers          642   Germany  Female   19   \n8786       8787    15770968       Leason          741   Germany  Female   19   \n9520       9521    15673180  Onyekaozulu          727   Germany  Female   18   \n\n      Tenure    Balance  NumOfProducts  HasCrCard  IsActiveMember  \\\n923        1  138657.08              1       True               1   \n1678       4   82767.42              1       True               0   \n2021       3  128743.80              1      False               0   \n2669       5   97445.49              2       True               0   \n3239       6       0.00              2       True               0   \n3295       9       0.00              1       True               0   \n4218       9   83495.11              1       True               1   \n4330       3       0.00              2       True               1   \n4556       1   98894.39              1       True               1   \n4727       1       0.00              2      False               1   \n6319       3  113905.48              1       True               1   \n8786       8  108711.57              2       True               0   \n9520       2   93816.70              2       True               0   \n\n      EstimatedSalary  Exited  \n923          16161.82       0  \n1678         71811.90       0  \n2021        197322.13       0  \n2669        122823.34       0  \n3239         55500.17       0  \n3295        189641.11       0  \n4218        143022.31       1  \n4330        124297.32       0  \n4556          9596.40       0  \n4727         22101.86       0  \n6319        176137.20       0  \n8786         24857.25       0  \n9520        126172.11       0  ",
      "text/html": "<div>\n<style scoped>\n    .dataframe tbody tr th:only-of-type {\n        vertical-align: middle;\n    }\n\n    .dataframe tbody tr th {\n        vertical-align: top;\n    }\n\n    .dataframe thead th {\n        text-align: right;\n    }\n</style>\n<table border=\"1\" class=\"dataframe\">\n  <thead>\n    <tr style=\"text-align: right;\">\n      <th></th>\n      <th>RowNumber</th>\n      <th>CustomerId</th>\n      <th>Surname</th>\n      <th>CreditScore</th>\n      <th>Geography</th>\n      <th>Gender</th>\n      <th>Age</th>\n      <th>Tenure</th>\n      <th>Balance</th>\n      <th>NumOfProducts</th>\n      <th>HasCrCard</th>\n      <th>IsActiveMember</th>\n      <th>EstimatedSalary</th>\n      <th>Exited</th>\n    </tr>\n  </thead>\n  <tbody>\n    <tr>\n      <th>923</th>\n      <td>924</td>\n      <td>15601026</td>\n      <td>Gallagher</td>\n      <td>572</td>\n      <td>Germany</td>\n      <td>Female</td>\n      <td>19</td>\n      <td>1</td>\n      <td>138657.08</td>\n      <td>1</td>\n      <td>True</td>\n      <td>1</td>\n      <td>16161.82</td>\n      <td>0</td>\n    </tr>\n    <tr>\n      <th>1678</th>\n      <td>1679</td>\n      <td>15569178</td>\n      <td>Kharlamov</td>\n      <td>570</td>\n      <td>France</td>\n      <td>Female</td>\n      <td>18</td>\n      <td>4</td>\n      <td>82767.42</td>\n      <td>1</td>\n      <td>True</td>\n      <td>0</td>\n      <td>71811.90</td>\n      <td>0</td>\n    </tr>\n    <tr>\n      <th>2021</th>\n      <td>2022</td>\n      <td>15795519</td>\n      <td>Vasiliev</td>\n      <td>716</td>\n      <td>Germany</td>\n      <td>Female</td>\n      <td>18</td>\n      <td>3</td>\n      <td>128743.80</td>\n      <td>1</td>\n      <td>False</td>\n      <td>0</td>\n      <td>197322.13</td>\n      <td>0</td>\n    </tr>\n    <tr>\n      <th>2669</th>\n      <td>2670</td>\n      <td>15693947</td>\n      <td>Tokareva</td>\n      <td>614</td>\n      <td>France</td>\n      <td>Female</td>\n      <td>19</td>\n      <td>5</td>\n      <td>97445.49</td>\n      <td>2</td>\n      <td>True</td>\n      <td>0</td>\n      <td>122823.34</td>\n      <td>0</td>\n    </tr>\n    <tr>\n      <th>3239</th>\n      <td>3240</td>\n      <td>15776844</td>\n      <td>Hao</td>\n      <td>762</td>\n      <td>Spain</td>\n      <td>Female</td>\n      <td>19</td>\n      <td>6</td>\n      <td>0.00</td>\n      <td>2</td>\n      <td>True</td>\n      <td>0</td>\n      <td>55500.17</td>\n      <td>0</td>\n    </tr>\n    <tr>\n      <th>3295</th>\n      <td>3296</td>\n      <td>15654296</td>\n      <td>Estrada</td>\n      <td>754</td>\n      <td>Spain</td>\n      <td>Female</td>\n      <td>19</td>\n      <td>9</td>\n      <td>0.00</td>\n      <td>1</td>\n      <td>True</td>\n      <td>0</td>\n      <td>189641.11</td>\n      <td>0</td>\n    </tr>\n    <tr>\n      <th>4218</th>\n      <td>4219</td>\n      <td>15782418</td>\n      <td>Ku</td>\n      <td>589</td>\n      <td>Germany</td>\n      <td>Female</td>\n      <td>19</td>\n      <td>9</td>\n      <td>83495.11</td>\n      <td>1</td>\n      <td>True</td>\n      <td>1</td>\n      <td>143022.31</td>\n      <td>1</td>\n    </tr>\n    <tr>\n      <th>4330</th>\n      <td>4331</td>\n      <td>15666652</td>\n      <td>Anayolisa</td>\n      <td>781</td>\n      <td>France</td>\n      <td>Female</td>\n      <td>19</td>\n      <td>3</td>\n      <td>0.00</td>\n      <td>2</td>\n      <td>True</td>\n      <td>1</td>\n      <td>124297.32</td>\n      <td>0</td>\n    </tr>\n    <tr>\n      <th>4556</th>\n      <td>4557</td>\n      <td>15796231</td>\n      <td>Nwankwo</td>\n      <td>681</td>\n      <td>France</td>\n      <td>Female</td>\n      <td>18</td>\n      <td>1</td>\n      <td>98894.39</td>\n      <td>1</td>\n      <td>True</td>\n      <td>1</td>\n      <td>9596.40</td>\n      <td>0</td>\n    </tr>\n    <tr>\n      <th>4727</th>\n      <td>4728</td>\n      <td>15641822</td>\n      <td>Barese</td>\n      <td>648</td>\n      <td>France</td>\n      <td>Female</td>\n      <td>19</td>\n      <td>1</td>\n      <td>0.00</td>\n      <td>2</td>\n      <td>False</td>\n      <td>1</td>\n      <td>22101.86</td>\n      <td>0</td>\n    </tr>\n    <tr>\n      <th>6319</th>\n      <td>6320</td>\n      <td>15768340</td>\n      <td>Beavers</td>\n      <td>642</td>\n      <td>Germany</td>\n      <td>Female</td>\n      <td>19</td>\n      <td>3</td>\n      <td>113905.48</td>\n      <td>1</td>\n      <td>True</td>\n      <td>1</td>\n      <td>176137.20</td>\n      <td>0</td>\n    </tr>\n    <tr>\n      <th>8786</th>\n      <td>8787</td>\n      <td>15770968</td>\n      <td>Leason</td>\n      <td>741</td>\n      <td>Germany</td>\n      <td>Female</td>\n      <td>19</td>\n      <td>8</td>\n      <td>108711.57</td>\n      <td>2</td>\n      <td>True</td>\n      <td>0</td>\n      <td>24857.25</td>\n      <td>0</td>\n    </tr>\n    <tr>\n      <th>9520</th>\n      <td>9521</td>\n      <td>15673180</td>\n      <td>Onyekaozulu</td>\n      <td>727</td>\n      <td>Germany</td>\n      <td>Female</td>\n      <td>18</td>\n      <td>2</td>\n      <td>93816.70</td>\n      <td>2</td>\n      <td>True</td>\n      <td>0</td>\n      <td>126172.11</td>\n      <td>0</td>\n    </tr>\n  </tbody>\n</table>\n</div>"
     },
     "execution_count": 85,
     "metadata": {},
     "output_type": "execute_result"
    }
   ],
   "source": [
    "df[(df['Gender'] == 'Female') & (df['Age'] <= 19)]"
   ],
   "metadata": {
    "collapsed": false,
    "pycharm": {
     "name": "#%%\n"
    }
   }
  },
  {
   "cell_type": "code",
   "execution_count": 86,
   "outputs": [
    {
     "data": {
      "text/plain": "      RowNumber  CustomerId           Surname  CreditScore Geography  Gender  \\\n7             8    15656148            Obinna          376   Germany  Female   \n70           71    15703793        Konovalova          738   Germany    Male   \n1254       1255    15610383        Dumetolisa          628    France  Female   \n1488       1489    15625824         Kornilova          596     Spain    Male   \n1701       1702    15605279           Francis          792    France    Male   \n2196       2197    15791700  Ugochukwutubelum          773   Germany    Male   \n2285       2286    15783615             Ramos          630   Germany    Male   \n2462       2463    15704442           Fleming          672    France  Female   \n2509       2510    15689341             Gibbs          655    France  Female   \n2614       2615    15640846          Chibueze          546   Germany  Female   \n2872       2873    15671591       Castiglione          439     Spain    Male   \n3152       3153    15724161            Sutton          644    France  Female   \n3365       3366    15764431         Chinwenma          671     Spain  Female   \n3841       3842    15750778         Ponomarev          653    France  Female   \n4014       4015    15597914         Evdokimov          641   Germany  Female   \n4166       4167    15654562                Ma          850     Spain  Female   \n4403       4404    15616859           Bonwick          602   Germany  Female   \n4511       4512    15568006        Ukaegbunam          634    France  Female   \n4516       4517    15812210           Yashina          497   Germany  Female   \n4606       4607    15784958             Allan          797    France  Female   \n4748       4749    15759067            Bromby          537   Germany  Female   \n5010       5011    15719508             Davis          575   Germany    Male   \n5137       5138    15601594         Ifeanacho          698    France  Female   \n5235       5236    15608528             Munro          645    France  Female   \n5700       5701    15812888         Perreault          447    France    Male   \n5904       5905    15664270         Balsillie          692   Germany    Male   \n6150       6151    15625761           Maclean          632   Germany    Male   \n6172       6173    15656822               Day          568   Germany    Male   \n6279       6280    15608338         Chiemenam          757     Spain  Female   \n7457       7458    15668889           Galgano          665   Germany  Female   \n7698       7699    15691513           Dawkins          592    France    Male   \n7729       7730    15681007               Yen          850    France  Female   \n8041       8042    15701439           Fanucci          698     Spain  Female   \n8590       8591    15633194           Osborne          771    France  Female   \n8850       8851    15590201        Fiorentini          500     Spain  Female   \n9215       9216    15624180          Genovesi          584   Germany  Female   \n9255       9256    15622033      Rapuluchukwu          847   Germany  Female   \n9323       9324    15815316           Kennedy          644    France    Male   \n9411       9412    15796115            Forbes          689   Germany  Female   \n9540       9541    15634551        Williamson          727   Germany    Male   \n9565       9566    15752294              Long          582    France  Female   \n\n      Age  Tenure    Balance  NumOfProducts  HasCrCard  IsActiveMember  \\\n7      29       4  115046.74              4       True               0   \n70     58       2  133745.44              4       True               0   \n1254   46       1   46870.43              4       True               0   \n1488   30       6  121345.88              4       True               0   \n1701   50       9       0.00              4       True               1   \n2196   47       2  118079.47              4       True               1   \n2285   50       3  129370.91              4       True               1   \n2462   53       9  169406.33              4       True               1   \n2509   50      10       0.00              4       True               0   \n2614   58       3  106458.31              4       True               0   \n2872   52       3   96196.24              4       True               0   \n3152   40       9  137285.26              4       True               0   \n3365   34       5  130929.02              4       True               1   \n3841   60       2  120731.39              4       True               1   \n4014   51       2  117306.69              4       True               1   \n4166   45       5  174088.30              4       True               0   \n4403   43       2  113641.49              4       True               0   \n4511   45       2       0.00              4       True               0   \n4516   32       8  111537.23              4       True               1   \n4606   55      10       0.00              4       True               1   \n4748   37       7  158411.95              4       True               1   \n5010   49       7  121205.15              4       True               1   \n5137   51       6  144237.91              4       True               0   \n5235   68       9       0.00              4       True               1   \n5700   41       3       0.00              4       True               1   \n5904   45       6  142084.04              4       True               0   \n6150   41       8  127205.32              4       True               0   \n6172   43       5   87612.64              4       True               1   \n6279   55       9  117294.12              4       True               0   \n7457   43       2  116322.27              4       True               0   \n7698   60       9       0.00              4       True               1   \n7729   35       2  128548.49              4       True               0   \n8041   50       1       0.00              4       True               0   \n8590   41      10  108309.00              4       True               1   \n8850   50       5       0.00              4       True               1   \n9215   37      10  134171.80              4       True               1   \n9255   41       3  101543.51              4       True               0   \n9323   50       9   76817.00              4       True               0   \n9411   40       4   78119.59              4       True               0   \n9540   46       3  115248.11              4       True               0   \n9565   38       9  135979.01              4       True               1   \n\n      EstimatedSalary  Exited  \n7           119346.88       1  \n70           28373.86       1  \n1254         31272.14       1  \n1488         41921.75       1  \n1701        194700.81       1  \n2196        143007.49       1  \n2285         47775.34       1  \n2462        147311.47       1  \n2509        179267.94       1  \n2614        128881.87       1  \n2872        198874.52       1  \n3152         77063.63       1  \n3365         28238.25       1  \n3841        138160.11       1  \n4014         26912.72       1  \n4166          5669.31       1  \n4403        115116.35       1  \n4511        101039.53       1  \n4516          9497.99       1  \n4606         49418.87       1  \n4748        117690.58       1  \n5010        168080.53       1  \n5137        157143.61       1  \n5235        176353.87       1  \n5700        197490.39       1  \n5904        188305.85       1  \n6150         93874.87       1  \n6172        107155.40       1  \n6279         94187.47       1  \n7457         35640.12       1  \n7698         13614.01       1  \n7729         75478.95       1  \n8041         88566.90       1  \n8590        137510.41       1  \n8850         83866.35       1  \n9215         70927.11       1  \n9255         16025.17       1  \n9323        196371.13       1  \n9411        119259.34       1  \n9540        130752.01       1  \n9565         76582.95       1  ",
      "text/html": "<div>\n<style scoped>\n    .dataframe tbody tr th:only-of-type {\n        vertical-align: middle;\n    }\n\n    .dataframe tbody tr th {\n        vertical-align: top;\n    }\n\n    .dataframe thead th {\n        text-align: right;\n    }\n</style>\n<table border=\"1\" class=\"dataframe\">\n  <thead>\n    <tr style=\"text-align: right;\">\n      <th></th>\n      <th>RowNumber</th>\n      <th>CustomerId</th>\n      <th>Surname</th>\n      <th>CreditScore</th>\n      <th>Geography</th>\n      <th>Gender</th>\n      <th>Age</th>\n      <th>Tenure</th>\n      <th>Balance</th>\n      <th>NumOfProducts</th>\n      <th>HasCrCard</th>\n      <th>IsActiveMember</th>\n      <th>EstimatedSalary</th>\n      <th>Exited</th>\n    </tr>\n  </thead>\n  <tbody>\n    <tr>\n      <th>7</th>\n      <td>8</td>\n      <td>15656148</td>\n      <td>Obinna</td>\n      <td>376</td>\n      <td>Germany</td>\n      <td>Female</td>\n      <td>29</td>\n      <td>4</td>\n      <td>115046.74</td>\n      <td>4</td>\n      <td>True</td>\n      <td>0</td>\n      <td>119346.88</td>\n      <td>1</td>\n    </tr>\n    <tr>\n      <th>70</th>\n      <td>71</td>\n      <td>15703793</td>\n      <td>Konovalova</td>\n      <td>738</td>\n      <td>Germany</td>\n      <td>Male</td>\n      <td>58</td>\n      <td>2</td>\n      <td>133745.44</td>\n      <td>4</td>\n      <td>True</td>\n      <td>0</td>\n      <td>28373.86</td>\n      <td>1</td>\n    </tr>\n    <tr>\n      <th>1254</th>\n      <td>1255</td>\n      <td>15610383</td>\n      <td>Dumetolisa</td>\n      <td>628</td>\n      <td>France</td>\n      <td>Female</td>\n      <td>46</td>\n      <td>1</td>\n      <td>46870.43</td>\n      <td>4</td>\n      <td>True</td>\n      <td>0</td>\n      <td>31272.14</td>\n      <td>1</td>\n    </tr>\n    <tr>\n      <th>1488</th>\n      <td>1489</td>\n      <td>15625824</td>\n      <td>Kornilova</td>\n      <td>596</td>\n      <td>Spain</td>\n      <td>Male</td>\n      <td>30</td>\n      <td>6</td>\n      <td>121345.88</td>\n      <td>4</td>\n      <td>True</td>\n      <td>0</td>\n      <td>41921.75</td>\n      <td>1</td>\n    </tr>\n    <tr>\n      <th>1701</th>\n      <td>1702</td>\n      <td>15605279</td>\n      <td>Francis</td>\n      <td>792</td>\n      <td>France</td>\n      <td>Male</td>\n      <td>50</td>\n      <td>9</td>\n      <td>0.00</td>\n      <td>4</td>\n      <td>True</td>\n      <td>1</td>\n      <td>194700.81</td>\n      <td>1</td>\n    </tr>\n    <tr>\n      <th>2196</th>\n      <td>2197</td>\n      <td>15791700</td>\n      <td>Ugochukwutubelum</td>\n      <td>773</td>\n      <td>Germany</td>\n      <td>Male</td>\n      <td>47</td>\n      <td>2</td>\n      <td>118079.47</td>\n      <td>4</td>\n      <td>True</td>\n      <td>1</td>\n      <td>143007.49</td>\n      <td>1</td>\n    </tr>\n    <tr>\n      <th>2285</th>\n      <td>2286</td>\n      <td>15783615</td>\n      <td>Ramos</td>\n      <td>630</td>\n      <td>Germany</td>\n      <td>Male</td>\n      <td>50</td>\n      <td>3</td>\n      <td>129370.91</td>\n      <td>4</td>\n      <td>True</td>\n      <td>1</td>\n      <td>47775.34</td>\n      <td>1</td>\n    </tr>\n    <tr>\n      <th>2462</th>\n      <td>2463</td>\n      <td>15704442</td>\n      <td>Fleming</td>\n      <td>672</td>\n      <td>France</td>\n      <td>Female</td>\n      <td>53</td>\n      <td>9</td>\n      <td>169406.33</td>\n      <td>4</td>\n      <td>True</td>\n      <td>1</td>\n      <td>147311.47</td>\n      <td>1</td>\n    </tr>\n    <tr>\n      <th>2509</th>\n      <td>2510</td>\n      <td>15689341</td>\n      <td>Gibbs</td>\n      <td>655</td>\n      <td>France</td>\n      <td>Female</td>\n      <td>50</td>\n      <td>10</td>\n      <td>0.00</td>\n      <td>4</td>\n      <td>True</td>\n      <td>0</td>\n      <td>179267.94</td>\n      <td>1</td>\n    </tr>\n    <tr>\n      <th>2614</th>\n      <td>2615</td>\n      <td>15640846</td>\n      <td>Chibueze</td>\n      <td>546</td>\n      <td>Germany</td>\n      <td>Female</td>\n      <td>58</td>\n      <td>3</td>\n      <td>106458.31</td>\n      <td>4</td>\n      <td>True</td>\n      <td>0</td>\n      <td>128881.87</td>\n      <td>1</td>\n    </tr>\n    <tr>\n      <th>2872</th>\n      <td>2873</td>\n      <td>15671591</td>\n      <td>Castiglione</td>\n      <td>439</td>\n      <td>Spain</td>\n      <td>Male</td>\n      <td>52</td>\n      <td>3</td>\n      <td>96196.24</td>\n      <td>4</td>\n      <td>True</td>\n      <td>0</td>\n      <td>198874.52</td>\n      <td>1</td>\n    </tr>\n    <tr>\n      <th>3152</th>\n      <td>3153</td>\n      <td>15724161</td>\n      <td>Sutton</td>\n      <td>644</td>\n      <td>France</td>\n      <td>Female</td>\n      <td>40</td>\n      <td>9</td>\n      <td>137285.26</td>\n      <td>4</td>\n      <td>True</td>\n      <td>0</td>\n      <td>77063.63</td>\n      <td>1</td>\n    </tr>\n    <tr>\n      <th>3365</th>\n      <td>3366</td>\n      <td>15764431</td>\n      <td>Chinwenma</td>\n      <td>671</td>\n      <td>Spain</td>\n      <td>Female</td>\n      <td>34</td>\n      <td>5</td>\n      <td>130929.02</td>\n      <td>4</td>\n      <td>True</td>\n      <td>1</td>\n      <td>28238.25</td>\n      <td>1</td>\n    </tr>\n    <tr>\n      <th>3841</th>\n      <td>3842</td>\n      <td>15750778</td>\n      <td>Ponomarev</td>\n      <td>653</td>\n      <td>France</td>\n      <td>Female</td>\n      <td>60</td>\n      <td>2</td>\n      <td>120731.39</td>\n      <td>4</td>\n      <td>True</td>\n      <td>1</td>\n      <td>138160.11</td>\n      <td>1</td>\n    </tr>\n    <tr>\n      <th>4014</th>\n      <td>4015</td>\n      <td>15597914</td>\n      <td>Evdokimov</td>\n      <td>641</td>\n      <td>Germany</td>\n      <td>Female</td>\n      <td>51</td>\n      <td>2</td>\n      <td>117306.69</td>\n      <td>4</td>\n      <td>True</td>\n      <td>1</td>\n      <td>26912.72</td>\n      <td>1</td>\n    </tr>\n    <tr>\n      <th>4166</th>\n      <td>4167</td>\n      <td>15654562</td>\n      <td>Ma</td>\n      <td>850</td>\n      <td>Spain</td>\n      <td>Female</td>\n      <td>45</td>\n      <td>5</td>\n      <td>174088.30</td>\n      <td>4</td>\n      <td>True</td>\n      <td>0</td>\n      <td>5669.31</td>\n      <td>1</td>\n    </tr>\n    <tr>\n      <th>4403</th>\n      <td>4404</td>\n      <td>15616859</td>\n      <td>Bonwick</td>\n      <td>602</td>\n      <td>Germany</td>\n      <td>Female</td>\n      <td>43</td>\n      <td>2</td>\n      <td>113641.49</td>\n      <td>4</td>\n      <td>True</td>\n      <td>0</td>\n      <td>115116.35</td>\n      <td>1</td>\n    </tr>\n    <tr>\n      <th>4511</th>\n      <td>4512</td>\n      <td>15568006</td>\n      <td>Ukaegbunam</td>\n      <td>634</td>\n      <td>France</td>\n      <td>Female</td>\n      <td>45</td>\n      <td>2</td>\n      <td>0.00</td>\n      <td>4</td>\n      <td>True</td>\n      <td>0</td>\n      <td>101039.53</td>\n      <td>1</td>\n    </tr>\n    <tr>\n      <th>4516</th>\n      <td>4517</td>\n      <td>15812210</td>\n      <td>Yashina</td>\n      <td>497</td>\n      <td>Germany</td>\n      <td>Female</td>\n      <td>32</td>\n      <td>8</td>\n      <td>111537.23</td>\n      <td>4</td>\n      <td>True</td>\n      <td>1</td>\n      <td>9497.99</td>\n      <td>1</td>\n    </tr>\n    <tr>\n      <th>4606</th>\n      <td>4607</td>\n      <td>15784958</td>\n      <td>Allan</td>\n      <td>797</td>\n      <td>France</td>\n      <td>Female</td>\n      <td>55</td>\n      <td>10</td>\n      <td>0.00</td>\n      <td>4</td>\n      <td>True</td>\n      <td>1</td>\n      <td>49418.87</td>\n      <td>1</td>\n    </tr>\n    <tr>\n      <th>4748</th>\n      <td>4749</td>\n      <td>15759067</td>\n      <td>Bromby</td>\n      <td>537</td>\n      <td>Germany</td>\n      <td>Female</td>\n      <td>37</td>\n      <td>7</td>\n      <td>158411.95</td>\n      <td>4</td>\n      <td>True</td>\n      <td>1</td>\n      <td>117690.58</td>\n      <td>1</td>\n    </tr>\n    <tr>\n      <th>5010</th>\n      <td>5011</td>\n      <td>15719508</td>\n      <td>Davis</td>\n      <td>575</td>\n      <td>Germany</td>\n      <td>Male</td>\n      <td>49</td>\n      <td>7</td>\n      <td>121205.15</td>\n      <td>4</td>\n      <td>True</td>\n      <td>1</td>\n      <td>168080.53</td>\n      <td>1</td>\n    </tr>\n    <tr>\n      <th>5137</th>\n      <td>5138</td>\n      <td>15601594</td>\n      <td>Ifeanacho</td>\n      <td>698</td>\n      <td>France</td>\n      <td>Female</td>\n      <td>51</td>\n      <td>6</td>\n      <td>144237.91</td>\n      <td>4</td>\n      <td>True</td>\n      <td>0</td>\n      <td>157143.61</td>\n      <td>1</td>\n    </tr>\n    <tr>\n      <th>5235</th>\n      <td>5236</td>\n      <td>15608528</td>\n      <td>Munro</td>\n      <td>645</td>\n      <td>France</td>\n      <td>Female</td>\n      <td>68</td>\n      <td>9</td>\n      <td>0.00</td>\n      <td>4</td>\n      <td>True</td>\n      <td>1</td>\n      <td>176353.87</td>\n      <td>1</td>\n    </tr>\n    <tr>\n      <th>5700</th>\n      <td>5701</td>\n      <td>15812888</td>\n      <td>Perreault</td>\n      <td>447</td>\n      <td>France</td>\n      <td>Male</td>\n      <td>41</td>\n      <td>3</td>\n      <td>0.00</td>\n      <td>4</td>\n      <td>True</td>\n      <td>1</td>\n      <td>197490.39</td>\n      <td>1</td>\n    </tr>\n    <tr>\n      <th>5904</th>\n      <td>5905</td>\n      <td>15664270</td>\n      <td>Balsillie</td>\n      <td>692</td>\n      <td>Germany</td>\n      <td>Male</td>\n      <td>45</td>\n      <td>6</td>\n      <td>142084.04</td>\n      <td>4</td>\n      <td>True</td>\n      <td>0</td>\n      <td>188305.85</td>\n      <td>1</td>\n    </tr>\n    <tr>\n      <th>6150</th>\n      <td>6151</td>\n      <td>15625761</td>\n      <td>Maclean</td>\n      <td>632</td>\n      <td>Germany</td>\n      <td>Male</td>\n      <td>41</td>\n      <td>8</td>\n      <td>127205.32</td>\n      <td>4</td>\n      <td>True</td>\n      <td>0</td>\n      <td>93874.87</td>\n      <td>1</td>\n    </tr>\n    <tr>\n      <th>6172</th>\n      <td>6173</td>\n      <td>15656822</td>\n      <td>Day</td>\n      <td>568</td>\n      <td>Germany</td>\n      <td>Male</td>\n      <td>43</td>\n      <td>5</td>\n      <td>87612.64</td>\n      <td>4</td>\n      <td>True</td>\n      <td>1</td>\n      <td>107155.40</td>\n      <td>1</td>\n    </tr>\n    <tr>\n      <th>6279</th>\n      <td>6280</td>\n      <td>15608338</td>\n      <td>Chiemenam</td>\n      <td>757</td>\n      <td>Spain</td>\n      <td>Female</td>\n      <td>55</td>\n      <td>9</td>\n      <td>117294.12</td>\n      <td>4</td>\n      <td>True</td>\n      <td>0</td>\n      <td>94187.47</td>\n      <td>1</td>\n    </tr>\n    <tr>\n      <th>7457</th>\n      <td>7458</td>\n      <td>15668889</td>\n      <td>Galgano</td>\n      <td>665</td>\n      <td>Germany</td>\n      <td>Female</td>\n      <td>43</td>\n      <td>2</td>\n      <td>116322.27</td>\n      <td>4</td>\n      <td>True</td>\n      <td>0</td>\n      <td>35640.12</td>\n      <td>1</td>\n    </tr>\n    <tr>\n      <th>7698</th>\n      <td>7699</td>\n      <td>15691513</td>\n      <td>Dawkins</td>\n      <td>592</td>\n      <td>France</td>\n      <td>Male</td>\n      <td>60</td>\n      <td>9</td>\n      <td>0.00</td>\n      <td>4</td>\n      <td>True</td>\n      <td>1</td>\n      <td>13614.01</td>\n      <td>1</td>\n    </tr>\n    <tr>\n      <th>7729</th>\n      <td>7730</td>\n      <td>15681007</td>\n      <td>Yen</td>\n      <td>850</td>\n      <td>France</td>\n      <td>Female</td>\n      <td>35</td>\n      <td>2</td>\n      <td>128548.49</td>\n      <td>4</td>\n      <td>True</td>\n      <td>0</td>\n      <td>75478.95</td>\n      <td>1</td>\n    </tr>\n    <tr>\n      <th>8041</th>\n      <td>8042</td>\n      <td>15701439</td>\n      <td>Fanucci</td>\n      <td>698</td>\n      <td>Spain</td>\n      <td>Female</td>\n      <td>50</td>\n      <td>1</td>\n      <td>0.00</td>\n      <td>4</td>\n      <td>True</td>\n      <td>0</td>\n      <td>88566.90</td>\n      <td>1</td>\n    </tr>\n    <tr>\n      <th>8590</th>\n      <td>8591</td>\n      <td>15633194</td>\n      <td>Osborne</td>\n      <td>771</td>\n      <td>France</td>\n      <td>Female</td>\n      <td>41</td>\n      <td>10</td>\n      <td>108309.00</td>\n      <td>4</td>\n      <td>True</td>\n      <td>1</td>\n      <td>137510.41</td>\n      <td>1</td>\n    </tr>\n    <tr>\n      <th>8850</th>\n      <td>8851</td>\n      <td>15590201</td>\n      <td>Fiorentini</td>\n      <td>500</td>\n      <td>Spain</td>\n      <td>Female</td>\n      <td>50</td>\n      <td>5</td>\n      <td>0.00</td>\n      <td>4</td>\n      <td>True</td>\n      <td>1</td>\n      <td>83866.35</td>\n      <td>1</td>\n    </tr>\n    <tr>\n      <th>9215</th>\n      <td>9216</td>\n      <td>15624180</td>\n      <td>Genovesi</td>\n      <td>584</td>\n      <td>Germany</td>\n      <td>Female</td>\n      <td>37</td>\n      <td>10</td>\n      <td>134171.80</td>\n      <td>4</td>\n      <td>True</td>\n      <td>1</td>\n      <td>70927.11</td>\n      <td>1</td>\n    </tr>\n    <tr>\n      <th>9255</th>\n      <td>9256</td>\n      <td>15622033</td>\n      <td>Rapuluchukwu</td>\n      <td>847</td>\n      <td>Germany</td>\n      <td>Female</td>\n      <td>41</td>\n      <td>3</td>\n      <td>101543.51</td>\n      <td>4</td>\n      <td>True</td>\n      <td>0</td>\n      <td>16025.17</td>\n      <td>1</td>\n    </tr>\n    <tr>\n      <th>9323</th>\n      <td>9324</td>\n      <td>15815316</td>\n      <td>Kennedy</td>\n      <td>644</td>\n      <td>France</td>\n      <td>Male</td>\n      <td>50</td>\n      <td>9</td>\n      <td>76817.00</td>\n      <td>4</td>\n      <td>True</td>\n      <td>0</td>\n      <td>196371.13</td>\n      <td>1</td>\n    </tr>\n    <tr>\n      <th>9411</th>\n      <td>9412</td>\n      <td>15796115</td>\n      <td>Forbes</td>\n      <td>689</td>\n      <td>Germany</td>\n      <td>Female</td>\n      <td>40</td>\n      <td>4</td>\n      <td>78119.59</td>\n      <td>4</td>\n      <td>True</td>\n      <td>0</td>\n      <td>119259.34</td>\n      <td>1</td>\n    </tr>\n    <tr>\n      <th>9540</th>\n      <td>9541</td>\n      <td>15634551</td>\n      <td>Williamson</td>\n      <td>727</td>\n      <td>Germany</td>\n      <td>Male</td>\n      <td>46</td>\n      <td>3</td>\n      <td>115248.11</td>\n      <td>4</td>\n      <td>True</td>\n      <td>0</td>\n      <td>130752.01</td>\n      <td>1</td>\n    </tr>\n    <tr>\n      <th>9565</th>\n      <td>9566</td>\n      <td>15752294</td>\n      <td>Long</td>\n      <td>582</td>\n      <td>France</td>\n      <td>Female</td>\n      <td>38</td>\n      <td>9</td>\n      <td>135979.01</td>\n      <td>4</td>\n      <td>True</td>\n      <td>1</td>\n      <td>76582.95</td>\n      <td>1</td>\n    </tr>\n  </tbody>\n</table>\n</div>"
     },
     "execution_count": 86,
     "metadata": {},
     "output_type": "execute_result"
    }
   ],
   "source": [
    "df[(df['HasCrCard']) & (df['NumOfProducts'] >= 4)]"
   ],
   "metadata": {
    "collapsed": false,
    "pycharm": {
     "name": "#%%\n"
    }
   }
  },
  {
   "cell_type": "code",
   "execution_count": 87,
   "outputs": [
    {
     "data": {
      "text/plain": "      RowNumber  CustomerId      Surname  CreditScore Geography  Gender  Age  \\\n1             2    15647311         Hill          608     Spain  Female   41   \n4             5    15737888     Mitchell          850     Spain  Female   43   \n5             6    15574012          Chu          645     Spain    Male   44   \n11           12    15737173      Andrews          497     Spain    Male   24   \n14           15    15600882        Scott          635     Spain  Female   35   \n...         ...         ...          ...          ...       ...     ...  ...   \n9966       9967    15590213        Ch'en          479     Spain    Male   35   \n9980       9981    15719276         T'ao          741     Spain    Male   35   \n9987       9988    15588839      Mancini          606     Spain    Male   30   \n9989       9990    15605622     McMillan          841     Spain    Male   28   \n9992       9993    15657105  Chukwualuka          726     Spain    Male   36   \n\n      Tenure    Balance  NumOfProducts  HasCrCard  IsActiveMember  \\\n1          1   83807.86              1      False               1   \n4          2  125510.82              1       True               1   \n5          8  113755.78              2       True               0   \n11         3       0.00              2       True               0   \n14         7       0.00              2       True               1   \n...      ...        ...            ...        ...             ...   \n9966       4  125920.98              1       True               1   \n9980       6   74371.49              1      False               0   \n9987       8  180307.73              2       True               1   \n9989       4       0.00              2       True               1   \n9992       2       0.00              1       True               0   \n\n      EstimatedSalary  Exited  \n1           112542.58       0  \n4            79084.10       0  \n5           149756.71       1  \n11           76390.01       0  \n14           65951.65       0  \n...               ...     ...  \n9966         20393.44       0  \n9980         99595.67       0  \n9987          1914.41       0  \n9989        179436.60       0  \n9992        195192.40       0  \n\n[2477 rows x 14 columns]",
      "text/html": "<div>\n<style scoped>\n    .dataframe tbody tr th:only-of-type {\n        vertical-align: middle;\n    }\n\n    .dataframe tbody tr th {\n        vertical-align: top;\n    }\n\n    .dataframe thead th {\n        text-align: right;\n    }\n</style>\n<table border=\"1\" class=\"dataframe\">\n  <thead>\n    <tr style=\"text-align: right;\">\n      <th></th>\n      <th>RowNumber</th>\n      <th>CustomerId</th>\n      <th>Surname</th>\n      <th>CreditScore</th>\n      <th>Geography</th>\n      <th>Gender</th>\n      <th>Age</th>\n      <th>Tenure</th>\n      <th>Balance</th>\n      <th>NumOfProducts</th>\n      <th>HasCrCard</th>\n      <th>IsActiveMember</th>\n      <th>EstimatedSalary</th>\n      <th>Exited</th>\n    </tr>\n  </thead>\n  <tbody>\n    <tr>\n      <th>1</th>\n      <td>2</td>\n      <td>15647311</td>\n      <td>Hill</td>\n      <td>608</td>\n      <td>Spain</td>\n      <td>Female</td>\n      <td>41</td>\n      <td>1</td>\n      <td>83807.86</td>\n      <td>1</td>\n      <td>False</td>\n      <td>1</td>\n      <td>112542.58</td>\n      <td>0</td>\n    </tr>\n    <tr>\n      <th>4</th>\n      <td>5</td>\n      <td>15737888</td>\n      <td>Mitchell</td>\n      <td>850</td>\n      <td>Spain</td>\n      <td>Female</td>\n      <td>43</td>\n      <td>2</td>\n      <td>125510.82</td>\n      <td>1</td>\n      <td>True</td>\n      <td>1</td>\n      <td>79084.10</td>\n      <td>0</td>\n    </tr>\n    <tr>\n      <th>5</th>\n      <td>6</td>\n      <td>15574012</td>\n      <td>Chu</td>\n      <td>645</td>\n      <td>Spain</td>\n      <td>Male</td>\n      <td>44</td>\n      <td>8</td>\n      <td>113755.78</td>\n      <td>2</td>\n      <td>True</td>\n      <td>0</td>\n      <td>149756.71</td>\n      <td>1</td>\n    </tr>\n    <tr>\n      <th>11</th>\n      <td>12</td>\n      <td>15737173</td>\n      <td>Andrews</td>\n      <td>497</td>\n      <td>Spain</td>\n      <td>Male</td>\n      <td>24</td>\n      <td>3</td>\n      <td>0.00</td>\n      <td>2</td>\n      <td>True</td>\n      <td>0</td>\n      <td>76390.01</td>\n      <td>0</td>\n    </tr>\n    <tr>\n      <th>14</th>\n      <td>15</td>\n      <td>15600882</td>\n      <td>Scott</td>\n      <td>635</td>\n      <td>Spain</td>\n      <td>Female</td>\n      <td>35</td>\n      <td>7</td>\n      <td>0.00</td>\n      <td>2</td>\n      <td>True</td>\n      <td>1</td>\n      <td>65951.65</td>\n      <td>0</td>\n    </tr>\n    <tr>\n      <th>...</th>\n      <td>...</td>\n      <td>...</td>\n      <td>...</td>\n      <td>...</td>\n      <td>...</td>\n      <td>...</td>\n      <td>...</td>\n      <td>...</td>\n      <td>...</td>\n      <td>...</td>\n      <td>...</td>\n      <td>...</td>\n      <td>...</td>\n      <td>...</td>\n    </tr>\n    <tr>\n      <th>9966</th>\n      <td>9967</td>\n      <td>15590213</td>\n      <td>Ch'en</td>\n      <td>479</td>\n      <td>Spain</td>\n      <td>Male</td>\n      <td>35</td>\n      <td>4</td>\n      <td>125920.98</td>\n      <td>1</td>\n      <td>True</td>\n      <td>1</td>\n      <td>20393.44</td>\n      <td>0</td>\n    </tr>\n    <tr>\n      <th>9980</th>\n      <td>9981</td>\n      <td>15719276</td>\n      <td>T'ao</td>\n      <td>741</td>\n      <td>Spain</td>\n      <td>Male</td>\n      <td>35</td>\n      <td>6</td>\n      <td>74371.49</td>\n      <td>1</td>\n      <td>False</td>\n      <td>0</td>\n      <td>99595.67</td>\n      <td>0</td>\n    </tr>\n    <tr>\n      <th>9987</th>\n      <td>9988</td>\n      <td>15588839</td>\n      <td>Mancini</td>\n      <td>606</td>\n      <td>Spain</td>\n      <td>Male</td>\n      <td>30</td>\n      <td>8</td>\n      <td>180307.73</td>\n      <td>2</td>\n      <td>True</td>\n      <td>1</td>\n      <td>1914.41</td>\n      <td>0</td>\n    </tr>\n    <tr>\n      <th>9989</th>\n      <td>9990</td>\n      <td>15605622</td>\n      <td>McMillan</td>\n      <td>841</td>\n      <td>Spain</td>\n      <td>Male</td>\n      <td>28</td>\n      <td>4</td>\n      <td>0.00</td>\n      <td>2</td>\n      <td>True</td>\n      <td>1</td>\n      <td>179436.60</td>\n      <td>0</td>\n    </tr>\n    <tr>\n      <th>9992</th>\n      <td>9993</td>\n      <td>15657105</td>\n      <td>Chukwualuka</td>\n      <td>726</td>\n      <td>Spain</td>\n      <td>Male</td>\n      <td>36</td>\n      <td>2</td>\n      <td>0.00</td>\n      <td>1</td>\n      <td>True</td>\n      <td>0</td>\n      <td>195192.40</td>\n      <td>0</td>\n    </tr>\n  </tbody>\n</table>\n<p>2477 rows × 14 columns</p>\n</div>"
     },
     "execution_count": 87,
     "metadata": {},
     "output_type": "execute_result"
    }
   ],
   "source": [
    "df[~(df['Geography'] != 'Spain')]"
   ],
   "metadata": {
    "collapsed": false,
    "pycharm": {
     "name": "#%%\n"
    }
   }
  },
  {
   "cell_type": "code",
   "execution_count": 88,
   "outputs": [
    {
     "data": {
      "text/plain": "      RowNumber  CustomerId    Surname  CreditScore Geography  Gender  Age  \\\n0             1    15634602   Hargrave          619    France  Female   42   \n2             3    15619304       Onio          502    France  Female   42   \n3             4    15701354       Boni          699    France  Female   39   \n6             7    15592531   Bartlett          822    France    Male   50   \n8             9    15792365         He          501    France    Male   44   \n...         ...         ...        ...          ...       ...     ...  ...   \n9994       9995    15719294       Wood          800    France  Female   29   \n9995       9996    15606229   Obijiaku          771    France    Male   39   \n9996       9997    15569892  Johnstone          516    France    Male   35   \n9997       9998    15584532        Liu          709    France  Female   36   \n9999      10000    15628319     Walker          792    France  Female   28   \n\n      Tenure    Balance  NumOfProducts  HasCrCard  IsActiveMember  \\\n0          2       0.00              1       True               1   \n2          8  159660.80              3       True               0   \n3          1       0.00              2      False               0   \n6          7       0.00              2       True               1   \n8          4  142051.07              2      False               1   \n...      ...        ...            ...        ...             ...   \n9994       2       0.00              2      False               0   \n9995       5       0.00              2       True               0   \n9996      10   57369.61              1       True               1   \n9997       7       0.00              1      False               1   \n9999       4  130142.79              1       True               0   \n\n      EstimatedSalary  Exited  \n0           101348.88       1  \n2           113931.57       1  \n3            93826.63       0  \n6            10062.80       0  \n8            74940.50       0  \n...               ...     ...  \n9994        167773.55       0  \n9995         96270.64       0  \n9996        101699.77       0  \n9997         42085.58       1  \n9999         38190.78       0  \n\n[5014 rows x 14 columns]",
      "text/html": "<div>\n<style scoped>\n    .dataframe tbody tr th:only-of-type {\n        vertical-align: middle;\n    }\n\n    .dataframe tbody tr th {\n        vertical-align: top;\n    }\n\n    .dataframe thead th {\n        text-align: right;\n    }\n</style>\n<table border=\"1\" class=\"dataframe\">\n  <thead>\n    <tr style=\"text-align: right;\">\n      <th></th>\n      <th>RowNumber</th>\n      <th>CustomerId</th>\n      <th>Surname</th>\n      <th>CreditScore</th>\n      <th>Geography</th>\n      <th>Gender</th>\n      <th>Age</th>\n      <th>Tenure</th>\n      <th>Balance</th>\n      <th>NumOfProducts</th>\n      <th>HasCrCard</th>\n      <th>IsActiveMember</th>\n      <th>EstimatedSalary</th>\n      <th>Exited</th>\n    </tr>\n  </thead>\n  <tbody>\n    <tr>\n      <th>0</th>\n      <td>1</td>\n      <td>15634602</td>\n      <td>Hargrave</td>\n      <td>619</td>\n      <td>France</td>\n      <td>Female</td>\n      <td>42</td>\n      <td>2</td>\n      <td>0.00</td>\n      <td>1</td>\n      <td>True</td>\n      <td>1</td>\n      <td>101348.88</td>\n      <td>1</td>\n    </tr>\n    <tr>\n      <th>2</th>\n      <td>3</td>\n      <td>15619304</td>\n      <td>Onio</td>\n      <td>502</td>\n      <td>France</td>\n      <td>Female</td>\n      <td>42</td>\n      <td>8</td>\n      <td>159660.80</td>\n      <td>3</td>\n      <td>True</td>\n      <td>0</td>\n      <td>113931.57</td>\n      <td>1</td>\n    </tr>\n    <tr>\n      <th>3</th>\n      <td>4</td>\n      <td>15701354</td>\n      <td>Boni</td>\n      <td>699</td>\n      <td>France</td>\n      <td>Female</td>\n      <td>39</td>\n      <td>1</td>\n      <td>0.00</td>\n      <td>2</td>\n      <td>False</td>\n      <td>0</td>\n      <td>93826.63</td>\n      <td>0</td>\n    </tr>\n    <tr>\n      <th>6</th>\n      <td>7</td>\n      <td>15592531</td>\n      <td>Bartlett</td>\n      <td>822</td>\n      <td>France</td>\n      <td>Male</td>\n      <td>50</td>\n      <td>7</td>\n      <td>0.00</td>\n      <td>2</td>\n      <td>True</td>\n      <td>1</td>\n      <td>10062.80</td>\n      <td>0</td>\n    </tr>\n    <tr>\n      <th>8</th>\n      <td>9</td>\n      <td>15792365</td>\n      <td>He</td>\n      <td>501</td>\n      <td>France</td>\n      <td>Male</td>\n      <td>44</td>\n      <td>4</td>\n      <td>142051.07</td>\n      <td>2</td>\n      <td>False</td>\n      <td>1</td>\n      <td>74940.50</td>\n      <td>0</td>\n    </tr>\n    <tr>\n      <th>...</th>\n      <td>...</td>\n      <td>...</td>\n      <td>...</td>\n      <td>...</td>\n      <td>...</td>\n      <td>...</td>\n      <td>...</td>\n      <td>...</td>\n      <td>...</td>\n      <td>...</td>\n      <td>...</td>\n      <td>...</td>\n      <td>...</td>\n      <td>...</td>\n    </tr>\n    <tr>\n      <th>9994</th>\n      <td>9995</td>\n      <td>15719294</td>\n      <td>Wood</td>\n      <td>800</td>\n      <td>France</td>\n      <td>Female</td>\n      <td>29</td>\n      <td>2</td>\n      <td>0.00</td>\n      <td>2</td>\n      <td>False</td>\n      <td>0</td>\n      <td>167773.55</td>\n      <td>0</td>\n    </tr>\n    <tr>\n      <th>9995</th>\n      <td>9996</td>\n      <td>15606229</td>\n      <td>Obijiaku</td>\n      <td>771</td>\n      <td>France</td>\n      <td>Male</td>\n      <td>39</td>\n      <td>5</td>\n      <td>0.00</td>\n      <td>2</td>\n      <td>True</td>\n      <td>0</td>\n      <td>96270.64</td>\n      <td>0</td>\n    </tr>\n    <tr>\n      <th>9996</th>\n      <td>9997</td>\n      <td>15569892</td>\n      <td>Johnstone</td>\n      <td>516</td>\n      <td>France</td>\n      <td>Male</td>\n      <td>35</td>\n      <td>10</td>\n      <td>57369.61</td>\n      <td>1</td>\n      <td>True</td>\n      <td>1</td>\n      <td>101699.77</td>\n      <td>0</td>\n    </tr>\n    <tr>\n      <th>9997</th>\n      <td>9998</td>\n      <td>15584532</td>\n      <td>Liu</td>\n      <td>709</td>\n      <td>France</td>\n      <td>Female</td>\n      <td>36</td>\n      <td>7</td>\n      <td>0.00</td>\n      <td>1</td>\n      <td>False</td>\n      <td>1</td>\n      <td>42085.58</td>\n      <td>1</td>\n    </tr>\n    <tr>\n      <th>9999</th>\n      <td>10000</td>\n      <td>15628319</td>\n      <td>Walker</td>\n      <td>792</td>\n      <td>France</td>\n      <td>Female</td>\n      <td>28</td>\n      <td>4</td>\n      <td>130142.79</td>\n      <td>1</td>\n      <td>True</td>\n      <td>0</td>\n      <td>38190.78</td>\n      <td>0</td>\n    </tr>\n  </tbody>\n</table>\n<p>5014 rows × 14 columns</p>\n</div>"
     },
     "execution_count": 88,
     "metadata": {},
     "output_type": "execute_result"
    }
   ],
   "source": [
    "df[df['Geography'].isin(['France'])]"
   ],
   "metadata": {
    "collapsed": false,
    "pycharm": {
     "name": "#%%\n"
    }
   }
  },
  {
   "cell_type": "code",
   "execution_count": 89,
   "outputs": [],
   "source": [
    "df_small = df[(df['Geography'] == 'Spain')][['Geography', 'Gender', 'Age']]"
   ],
   "metadata": {
    "collapsed": false,
    "pycharm": {
     "name": "#%%\n"
    }
   }
  },
  {
   "cell_type": "code",
   "execution_count": 90,
   "outputs": [
    {
     "data": {
      "text/plain": "     Geography  Gender  Age\n1        Spain  Female   41\n4        Spain  Female   43\n5        Spain    Male   44\n11       Spain    Male   24\n14       Spain  Female   35\n...        ...     ...  ...\n9966     Spain    Male   35\n9980     Spain    Male   35\n9987     Spain    Male   30\n9989     Spain    Male   28\n9992     Spain    Male   36\n\n[2477 rows x 3 columns]",
      "text/html": "<div>\n<style scoped>\n    .dataframe tbody tr th:only-of-type {\n        vertical-align: middle;\n    }\n\n    .dataframe tbody tr th {\n        vertical-align: top;\n    }\n\n    .dataframe thead th {\n        text-align: right;\n    }\n</style>\n<table border=\"1\" class=\"dataframe\">\n  <thead>\n    <tr style=\"text-align: right;\">\n      <th></th>\n      <th>Geography</th>\n      <th>Gender</th>\n      <th>Age</th>\n    </tr>\n  </thead>\n  <tbody>\n    <tr>\n      <th>1</th>\n      <td>Spain</td>\n      <td>Female</td>\n      <td>41</td>\n    </tr>\n    <tr>\n      <th>4</th>\n      <td>Spain</td>\n      <td>Female</td>\n      <td>43</td>\n    </tr>\n    <tr>\n      <th>5</th>\n      <td>Spain</td>\n      <td>Male</td>\n      <td>44</td>\n    </tr>\n    <tr>\n      <th>11</th>\n      <td>Spain</td>\n      <td>Male</td>\n      <td>24</td>\n    </tr>\n    <tr>\n      <th>14</th>\n      <td>Spain</td>\n      <td>Female</td>\n      <td>35</td>\n    </tr>\n    <tr>\n      <th>...</th>\n      <td>...</td>\n      <td>...</td>\n      <td>...</td>\n    </tr>\n    <tr>\n      <th>9966</th>\n      <td>Spain</td>\n      <td>Male</td>\n      <td>35</td>\n    </tr>\n    <tr>\n      <th>9980</th>\n      <td>Spain</td>\n      <td>Male</td>\n      <td>35</td>\n    </tr>\n    <tr>\n      <th>9987</th>\n      <td>Spain</td>\n      <td>Male</td>\n      <td>30</td>\n    </tr>\n    <tr>\n      <th>9989</th>\n      <td>Spain</td>\n      <td>Male</td>\n      <td>28</td>\n    </tr>\n    <tr>\n      <th>9992</th>\n      <td>Spain</td>\n      <td>Male</td>\n      <td>36</td>\n    </tr>\n  </tbody>\n</table>\n<p>2477 rows × 3 columns</p>\n</div>"
     },
     "execution_count": 90,
     "metadata": {},
     "output_type": "execute_result"
    }
   ],
   "source": [
    "df_small.head(n=20000)"
   ],
   "metadata": {
    "collapsed": false,
    "pycharm": {
     "name": "#%%\n"
    }
   }
  },
  {
   "cell_type": "code",
   "execution_count": 91,
   "outputs": [
    {
     "data": {
      "text/plain": "Geography    Spain\nGender        Male\nAge             36\nName: 9992, dtype: object"
     },
     "execution_count": 91,
     "metadata": {},
     "output_type": "execute_result"
    }
   ],
   "source": [
    "df_small.loc[9992]"
   ],
   "metadata": {
    "collapsed": false,
    "pycharm": {
     "name": "#%%\n"
    }
   }
  },
  {
   "cell_type": "code",
   "execution_count": 92,
   "outputs": [
    {
     "data": {
      "text/plain": "   Gender  Age\n1  Female   41\n4  Female   43\n5    Male   44",
      "text/html": "<div>\n<style scoped>\n    .dataframe tbody tr th:only-of-type {\n        vertical-align: middle;\n    }\n\n    .dataframe tbody tr th {\n        vertical-align: top;\n    }\n\n    .dataframe thead th {\n        text-align: right;\n    }\n</style>\n<table border=\"1\" class=\"dataframe\">\n  <thead>\n    <tr style=\"text-align: right;\">\n      <th></th>\n      <th>Gender</th>\n      <th>Age</th>\n    </tr>\n  </thead>\n  <tbody>\n    <tr>\n      <th>1</th>\n      <td>Female</td>\n      <td>41</td>\n    </tr>\n    <tr>\n      <th>4</th>\n      <td>Female</td>\n      <td>43</td>\n    </tr>\n    <tr>\n      <th>5</th>\n      <td>Male</td>\n      <td>44</td>\n    </tr>\n  </tbody>\n</table>\n</div>"
     },
     "execution_count": 92,
     "metadata": {},
     "output_type": "execute_result"
    }
   ],
   "source": [
    "df_small.loc[[1, 4, 5], ['Gender', 'Age']]"
   ],
   "metadata": {
    "collapsed": false,
    "pycharm": {
     "name": "#%%\n"
    }
   }
  },
  {
   "cell_type": "code",
   "execution_count": 93,
   "outputs": [
    {
     "data": {
      "text/plain": "     Geography  Gender  Age\n1        Spain  Female   41\n4        Spain  Female   43\n5        Spain    Male   44\n11       Spain    Male   24\n14       Spain  Female   35\n...        ...     ...  ...\n9966     Spain    Male   35\n9980     Spain    Male   35\n9987     Spain    Male   30\n9989     Spain    Male   28\n9992     Spain    Male   36\n\n[2477 rows x 3 columns]",
      "text/html": "<div>\n<style scoped>\n    .dataframe tbody tr th:only-of-type {\n        vertical-align: middle;\n    }\n\n    .dataframe tbody tr th {\n        vertical-align: top;\n    }\n\n    .dataframe thead th {\n        text-align: right;\n    }\n</style>\n<table border=\"1\" class=\"dataframe\">\n  <thead>\n    <tr style=\"text-align: right;\">\n      <th></th>\n      <th>Geography</th>\n      <th>Gender</th>\n      <th>Age</th>\n    </tr>\n  </thead>\n  <tbody>\n    <tr>\n      <th>1</th>\n      <td>Spain</td>\n      <td>Female</td>\n      <td>41</td>\n    </tr>\n    <tr>\n      <th>4</th>\n      <td>Spain</td>\n      <td>Female</td>\n      <td>43</td>\n    </tr>\n    <tr>\n      <th>5</th>\n      <td>Spain</td>\n      <td>Male</td>\n      <td>44</td>\n    </tr>\n    <tr>\n      <th>11</th>\n      <td>Spain</td>\n      <td>Male</td>\n      <td>24</td>\n    </tr>\n    <tr>\n      <th>14</th>\n      <td>Spain</td>\n      <td>Female</td>\n      <td>35</td>\n    </tr>\n    <tr>\n      <th>...</th>\n      <td>...</td>\n      <td>...</td>\n      <td>...</td>\n    </tr>\n    <tr>\n      <th>9966</th>\n      <td>Spain</td>\n      <td>Male</td>\n      <td>35</td>\n    </tr>\n    <tr>\n      <th>9980</th>\n      <td>Spain</td>\n      <td>Male</td>\n      <td>35</td>\n    </tr>\n    <tr>\n      <th>9987</th>\n      <td>Spain</td>\n      <td>Male</td>\n      <td>30</td>\n    </tr>\n    <tr>\n      <th>9989</th>\n      <td>Spain</td>\n      <td>Male</td>\n      <td>28</td>\n    </tr>\n    <tr>\n      <th>9992</th>\n      <td>Spain</td>\n      <td>Male</td>\n      <td>36</td>\n    </tr>\n  </tbody>\n</table>\n<p>2477 rows × 3 columns</p>\n</div>"
     },
     "execution_count": 93,
     "metadata": {},
     "output_type": "execute_result"
    }
   ],
   "source": [
    "df_small"
   ],
   "metadata": {
    "collapsed": false,
    "pycharm": {
     "name": "#%%\n"
    }
   }
  },
  {
   "cell_type": "code",
   "execution_count": 94,
   "outputs": [
    {
     "data": {
      "text/plain": "      RowNumber  CustomerId      Surname  CreditScore Geography  Gender  Age  \\\n3512       3513    15657779       Boylan          806     Spain    Male   18   \n1678       1679    15569178    Kharlamov          570    France  Female   18   \n3517       3518    15757821      Burgess          771     Spain    Male   18   \n9520       9521    15673180  Onyekaozulu          727   Germany  Female   18   \n2021       2022    15795519     Vasiliev          716   Germany  Female   18   \n...         ...         ...          ...          ...       ...     ...  ...   \n3387       3388    15798024         Lori          537   Germany    Male   84   \n3033       3034    15578006          Yao          787    France  Female   85   \n2458       2459    15813303      Rearick          513     Spain    Male   88   \n6759       6760    15660878        T'ien          705    France    Male   92   \n6443       6444    15764927       Rogova          753    France    Male   92   \n\n      Tenure    Balance  NumOfProducts  HasCrCard  IsActiveMember  \\\n3512       3       0.00              2       True               1   \n1678       4   82767.42              1       True               0   \n3517       1       0.00              2      False               0   \n9520       2   93816.70              2       True               0   \n2021       3  128743.80              1      False               0   \n...      ...        ...            ...        ...             ...   \n3387       8   92242.34              1       True               1   \n3033      10       0.00              2       True               1   \n2458      10       0.00              2       True               1   \n6759       1  126076.24              2       True               1   \n6443       3  121513.31              1      False               1   \n\n      EstimatedSalary  Exited  \n3512         86994.54       0  \n1678         71811.90       0  \n3517         41542.95       0  \n9520        126172.11       0  \n2021        197322.13       0  \n...               ...     ...  \n3387        186235.98       0  \n3033        116537.96       0  \n2458         52952.24       0  \n6759         34436.83       0  \n6443        195563.99       0  \n\n[10000 rows x 14 columns]",
      "text/html": "<div>\n<style scoped>\n    .dataframe tbody tr th:only-of-type {\n        vertical-align: middle;\n    }\n\n    .dataframe tbody tr th {\n        vertical-align: top;\n    }\n\n    .dataframe thead th {\n        text-align: right;\n    }\n</style>\n<table border=\"1\" class=\"dataframe\">\n  <thead>\n    <tr style=\"text-align: right;\">\n      <th></th>\n      <th>RowNumber</th>\n      <th>CustomerId</th>\n      <th>Surname</th>\n      <th>CreditScore</th>\n      <th>Geography</th>\n      <th>Gender</th>\n      <th>Age</th>\n      <th>Tenure</th>\n      <th>Balance</th>\n      <th>NumOfProducts</th>\n      <th>HasCrCard</th>\n      <th>IsActiveMember</th>\n      <th>EstimatedSalary</th>\n      <th>Exited</th>\n    </tr>\n  </thead>\n  <tbody>\n    <tr>\n      <th>3512</th>\n      <td>3513</td>\n      <td>15657779</td>\n      <td>Boylan</td>\n      <td>806</td>\n      <td>Spain</td>\n      <td>Male</td>\n      <td>18</td>\n      <td>3</td>\n      <td>0.00</td>\n      <td>2</td>\n      <td>True</td>\n      <td>1</td>\n      <td>86994.54</td>\n      <td>0</td>\n    </tr>\n    <tr>\n      <th>1678</th>\n      <td>1679</td>\n      <td>15569178</td>\n      <td>Kharlamov</td>\n      <td>570</td>\n      <td>France</td>\n      <td>Female</td>\n      <td>18</td>\n      <td>4</td>\n      <td>82767.42</td>\n      <td>1</td>\n      <td>True</td>\n      <td>0</td>\n      <td>71811.90</td>\n      <td>0</td>\n    </tr>\n    <tr>\n      <th>3517</th>\n      <td>3518</td>\n      <td>15757821</td>\n      <td>Burgess</td>\n      <td>771</td>\n      <td>Spain</td>\n      <td>Male</td>\n      <td>18</td>\n      <td>1</td>\n      <td>0.00</td>\n      <td>2</td>\n      <td>False</td>\n      <td>0</td>\n      <td>41542.95</td>\n      <td>0</td>\n    </tr>\n    <tr>\n      <th>9520</th>\n      <td>9521</td>\n      <td>15673180</td>\n      <td>Onyekaozulu</td>\n      <td>727</td>\n      <td>Germany</td>\n      <td>Female</td>\n      <td>18</td>\n      <td>2</td>\n      <td>93816.70</td>\n      <td>2</td>\n      <td>True</td>\n      <td>0</td>\n      <td>126172.11</td>\n      <td>0</td>\n    </tr>\n    <tr>\n      <th>2021</th>\n      <td>2022</td>\n      <td>15795519</td>\n      <td>Vasiliev</td>\n      <td>716</td>\n      <td>Germany</td>\n      <td>Female</td>\n      <td>18</td>\n      <td>3</td>\n      <td>128743.80</td>\n      <td>1</td>\n      <td>False</td>\n      <td>0</td>\n      <td>197322.13</td>\n      <td>0</td>\n    </tr>\n    <tr>\n      <th>...</th>\n      <td>...</td>\n      <td>...</td>\n      <td>...</td>\n      <td>...</td>\n      <td>...</td>\n      <td>...</td>\n      <td>...</td>\n      <td>...</td>\n      <td>...</td>\n      <td>...</td>\n      <td>...</td>\n      <td>...</td>\n      <td>...</td>\n      <td>...</td>\n    </tr>\n    <tr>\n      <th>3387</th>\n      <td>3388</td>\n      <td>15798024</td>\n      <td>Lori</td>\n      <td>537</td>\n      <td>Germany</td>\n      <td>Male</td>\n      <td>84</td>\n      <td>8</td>\n      <td>92242.34</td>\n      <td>1</td>\n      <td>True</td>\n      <td>1</td>\n      <td>186235.98</td>\n      <td>0</td>\n    </tr>\n    <tr>\n      <th>3033</th>\n      <td>3034</td>\n      <td>15578006</td>\n      <td>Yao</td>\n      <td>787</td>\n      <td>France</td>\n      <td>Female</td>\n      <td>85</td>\n      <td>10</td>\n      <td>0.00</td>\n      <td>2</td>\n      <td>True</td>\n      <td>1</td>\n      <td>116537.96</td>\n      <td>0</td>\n    </tr>\n    <tr>\n      <th>2458</th>\n      <td>2459</td>\n      <td>15813303</td>\n      <td>Rearick</td>\n      <td>513</td>\n      <td>Spain</td>\n      <td>Male</td>\n      <td>88</td>\n      <td>10</td>\n      <td>0.00</td>\n      <td>2</td>\n      <td>True</td>\n      <td>1</td>\n      <td>52952.24</td>\n      <td>0</td>\n    </tr>\n    <tr>\n      <th>6759</th>\n      <td>6760</td>\n      <td>15660878</td>\n      <td>T'ien</td>\n      <td>705</td>\n      <td>France</td>\n      <td>Male</td>\n      <td>92</td>\n      <td>1</td>\n      <td>126076.24</td>\n      <td>2</td>\n      <td>True</td>\n      <td>1</td>\n      <td>34436.83</td>\n      <td>0</td>\n    </tr>\n    <tr>\n      <th>6443</th>\n      <td>6444</td>\n      <td>15764927</td>\n      <td>Rogova</td>\n      <td>753</td>\n      <td>France</td>\n      <td>Male</td>\n      <td>92</td>\n      <td>3</td>\n      <td>121513.31</td>\n      <td>1</td>\n      <td>False</td>\n      <td>1</td>\n      <td>195563.99</td>\n      <td>0</td>\n    </tr>\n  </tbody>\n</table>\n<p>10000 rows × 14 columns</p>\n</div>"
     },
     "execution_count": 94,
     "metadata": {},
     "output_type": "execute_result"
    }
   ],
   "source": [
    "df.sort_values('Age')"
   ],
   "metadata": {
    "collapsed": false,
    "pycharm": {
     "name": "#%%\n"
    }
   }
  },
  {
   "cell_type": "code",
   "execution_count": 94,
   "outputs": [],
   "source": [],
   "metadata": {
    "collapsed": false,
    "pycharm": {
     "name": "#%%\n"
    }
   }
  },
  {
   "cell_type": "code",
   "execution_count": 94,
   "outputs": [],
   "source": [],
   "metadata": {
    "collapsed": false,
    "pycharm": {
     "name": "#%%\n"
    }
   }
  },
  {
   "cell_type": "code",
   "execution_count": 94,
   "outputs": [],
   "source": [],
   "metadata": {
    "collapsed": false,
    "pycharm": {
     "name": "#%%\n"
    }
   }
  },
  {
   "cell_type": "code",
   "execution_count": 94,
   "outputs": [],
   "source": [],
   "metadata": {
    "collapsed": false,
    "pycharm": {
     "name": "#%%\n"
    }
   }
  },
  {
   "cell_type": "code",
   "execution_count": 94,
   "outputs": [],
   "source": [],
   "metadata": {
    "collapsed": false,
    "pycharm": {
     "name": "#%%\n"
    }
   }
  },
  {
   "cell_type": "code",
   "execution_count": 94,
   "outputs": [],
   "source": [],
   "metadata": {
    "collapsed": false,
    "pycharm": {
     "name": "#%%\n"
    }
   }
  }
 ],
 "metadata": {
  "kernelspec": {
   "display_name": "Python 3",
   "language": "python",
   "name": "python3"
  },
  "language_info": {
   "codemirror_mode": {
    "name": "ipython",
    "version": 3
   },
   "file_extension": ".py",
   "mimetype": "text/x-python",
   "name": "python",
   "nbconvert_exporter": "python",
   "pygments_lexer": "ipython3",
   "version": "3.11.1 (tags/v3.11.1:a7a450f, Dec  6 2022, 19:58:39) [MSC v.1934 64 bit (AMD64)]"
  },
  "vscode": {
   "interpreter": {
    "hash": "8754f1052303677bc91dba7b504dfc0857cf34b0da4ead158f6ae99cc24d2a75"
   }
  }
 },
 "nbformat": 4,
 "nbformat_minor": 5
}