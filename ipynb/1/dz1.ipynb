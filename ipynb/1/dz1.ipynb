{
 "cells": [
  {
   "cell_type": "markdown",
   "id": "aeb76a2a",
   "metadata": {
    "pycharm": {
     "name": "#%% md\n"
    }
   },
   "source": [
    "## Task 2\n",
    "На складе лежат разные фрукты в разном количестве.\n",
    "Нужно написать функцию, которая на вход принимает \n",
    "любое количество названий фруктов и их количество, \n",
    "а возвращает общее количество фруктов на складе.\n"
   ]
  },
  {
   "cell_type": "code",
   "execution_count": 1,
   "id": "6844bc43",
   "metadata": {
    "pycharm": {
     "name": "#%%\n"
    }
   },
   "outputs": [
    {
     "name": "stdout",
     "output_type": "stream",
     "text": [
      "На складе 300 фруктов.\n"
     ]
    }
   ],
   "source": [
    "def frukt(**kwargs):\n",
    "    sum1 = 0\n",
    "    for _, value in kwargs.items():\n",
    "        sum1 += value\n",
    "    return sum1    \n",
    "print(f'На складе {frukt(limon=100, kivi=50, apelsin=150)} фруктов.')"
   ]
  },
  {
   "cell_type": "markdown",
   "id": "783a720c",
   "metadata": {
    "pycharm": {
     "name": "#%% md\n"
    }
   },
   "source": [
    "## Task 3\n",
    "Дан список с затратами на рекламу."
   ]
  },
  {
   "cell_type": "code",
   "execution_count": 2,
   "id": "9c4b1793",
   "metadata": {
    "pycharm": {
     "name": "#%%\n"
    }
   },
   "outputs": [],
   "source": [
    "rek = [100, 125, -90, 345, 655, -1, 0, 200]"
   ]
  },
  {
   "cell_type": "markdown",
   "id": "237eb66f",
   "metadata": {
    "pycharm": {
     "name": "#%% md\n"
    }
   },
   "source": [
    "Но в данных есть ошибки, некоторые затраты имеют отрицательную величину. Удалите такие значения из списка и посчитайте суммарные затраты. Используйте list comprehensions."
   ]
  },
  {
   "cell_type": "markdown",
   "id": "49b058b0",
   "metadata": {
    "pycharm": {
     "name": "#%% md\n"
    }
   },
   "source": [
    "Создадим список без отрицательных элементов:\n",
    "      "
   ]
  },
  {
   "cell_type": "code",
   "execution_count": 3,
   "id": "a4f43383",
   "metadata": {
    "pycharm": {
     "name": "#%%\n"
    }
   },
   "outputs": [
    {
     "name": "stdout",
     "output_type": "stream",
     "text": [
      "[100, 125, 345, 655, 0, 200]\n"
     ]
    }
   ],
   "source": [
    "reklama = [i for i in rek if i >= 0]\n",
    "print(reklama)"
   ]
  },
  {
   "cell_type": "code",
   "execution_count": 4,
   "id": "5c6df2b2",
   "metadata": {
    "pycharm": {
     "name": "#%%\n"
    }
   },
   "outputs": [
    {
     "name": "stdout",
     "output_type": "stream",
     "text": [
      "Затраты на рекламу составили 1425\n"
     ]
    }
   ],
   "source": [
    "print(f'Затраты на рекламу составили {sum(reklama)}')"
   ]
  },
  {
   "cell_type": "markdown",
   "id": "438388a8",
   "metadata": {
    "pycharm": {
     "name": "#%% md\n"
    }
   },
   "source": [
    "## Task 4\n",
    "Даны два списка.\n",
    "Дата покупки:"
   ]
  },
  {
   "cell_type": "code",
   "execution_count": 32,
   "id": "44e68f8d",
   "metadata": {
    "pycharm": {
     "name": "#%%\n"
    }
   },
   "outputs": [],
   "source": [
    "date_p = ['2021-09-14', '2021-12-15', '2021-09-08', '2021-12-05', '2021-10-09', '2021-09-30', \n",
    "          '2021-12-22', '2021-11-29', '2021-12-24', '2021-11-26', '2021-10-27', '2021-12-18', \n",
    "          '2021-11-09', '2021-11-23', '2021-09-27', '2021-10-02', '2021-12-27', '2021-09-20', \n",
    "          '2021-12-13', '2021-11-01', '2021-11-09', '2021-12-06', '2021-12-08', '2021-10-09', \n",
    "          '2021-10-31', '2021-09-30', '2021-11-09', '2021-12-13', '2021-10-26', '2021-12-09']"
   ]
  },
  {
   "cell_type": "markdown",
   "id": "5daa0172",
   "metadata": {
    "pycharm": {
     "name": "#%% md\n"
    }
   },
   "source": [
    "Суммы покупок по датам:"
   ]
  },
  {
   "cell_type": "code",
   "execution_count": 33,
   "id": "4b22010b",
   "metadata": {
    "pycharm": {
     "name": "#%%\n"
    }
   },
   "outputs": [],
   "source": [
    "sum_p = [1270, 8413, 9028, 3703, 5739, 4095, \n",
    "         295, 4944, 5723, 3701, 4471, 651, \n",
    "         7037, 4274, 6275, 4988, 6930, 2971, \n",
    "         6592, 2004, 2822, 519, 3406, 2732, \n",
    "         5015, 2008, 316, 6333, 5700, 2887]"
   ]
  },
  {
   "cell_type": "markdown",
   "id": "50f1ee30",
   "metadata": {
    "pycharm": {
     "name": "#%% md\n"
    }
   },
   "source": [
    "### 4.1\n",
    "*Найдите, какая выручка у компании в ноябре.\n",
    "Используйте list comprehensions*"
   ]
  },
  {
   "cell_type": "markdown",
   "id": "e7e52e3f",
   "metadata": {
    "pycharm": {
     "name": "#%% md\n"
    }
   },
   "source": [
    "Индексы элементов, содержащих текст \"-11-\" "
   ]
  },
  {
   "cell_type": "code",
   "execution_count": 34,
   "id": "991a4a80",
   "metadata": {
    "pycharm": {
     "name": "#%%\n"
    }
   },
   "outputs": [
    {
     "name": "stdout",
     "output_type": "stream",
     "text": [
      "[7, 9, 12, 13, 19, 20, 26]\n"
     ]
    }
   ],
   "source": [
    "d_p = [i for i in range(len(date_p)) if \"-11-\" in date_p[i]]\n",
    "print(d_p) "
   ]
  },
  {
   "cell_type": "markdown",
   "id": "da94c9cf",
   "metadata": {
    "pycharm": {
     "name": "#%% md\n"
    }
   },
   "source": [
    "Суммы в *sum_p* под этими индексами:"
   ]
  },
  {
   "cell_type": "code",
   "execution_count": 35,
   "id": "d38431b5",
   "metadata": {
    "pycharm": {
     "name": "#%%\n"
    }
   },
   "outputs": [
    {
     "name": "stdout",
     "output_type": "stream",
     "text": [
      "[4944, 3701, 7037, 4274, 2004, 2822, 316]\n"
     ]
    }
   ],
   "source": [
    "s_p = [sum_p[i] for i in d_p]\n",
    "print(s_p) "
   ]
  },
  {
   "cell_type": "code",
   "execution_count": 36,
   "id": "c3657c92",
   "metadata": {
    "pycharm": {
     "name": "#%%\n"
    }
   },
   "outputs": [
    {
     "name": "stdout",
     "output_type": "stream",
     "text": [
      "Выручка у компании в ноябре составила: 25098\n"
     ]
    }
   ],
   "source": [
    "print(f'Выручка у компании в ноябре составила: {sum(s_p)}')"
   ]
  },
  {
   "cell_type": "markdown",
   "id": "f25a87b2",
   "metadata": {
    "pycharm": {
     "name": "#%% md\n"
    }
   },
   "source": [
    "### 4.2\n",
    "Найдите выручку компании в зависимости от месяца\n",
    "Для этого напишите функцию, которая на вход принимает список с датами и список с выручкой, а на выходе словарь, где ключи - это месяцы, а значения - это выручка.\n",
    "Используйте аннотирование типов.\n"
   ]
  },
  {
   "cell_type": "code",
   "execution_count": 37,
   "id": "bbe7da11",
   "metadata": {
    "pycharm": {
     "name": "#%%\n"
    }
   },
   "outputs": [],
   "source": [
    "def dengi(date_p: list, sum_p: list) -> dict:\n",
    "    mes = {}\n",
    "    s = [0, 0, 0, 0, 0, 0, 0, 0, 0, 0, 0, 0, 0]\n",
    "    for i in range(len(date_p)):\n",
    "        s[int(date_p[i][5:7])] += sum_p[i]\n",
    "    for i in range(1, 13):\n",
    "        mes[i] = s[i]\n",
    "    return mes    \n",
    "    "
   ]
  },
  {
   "cell_type": "code",
   "execution_count": 38,
   "id": "f8cd186c",
   "metadata": {
    "pycharm": {
     "name": "#%%\n"
    }
   },
   "outputs": [
    {
     "name": "stdout",
     "output_type": "stream",
     "text": [
      "{1: 0, 2: 0, 3: 0, 4: 0, 5: 0, 6: 0, 7: 0, 8: 0, 9: 25647, 10: 28645, 11: 25098, 12: 45452}\n"
     ]
    }
   ],
   "source": [
    "print(dengi(date_p, sum_p))"
   ]
  }
 ],
 "metadata": {
  "kernelspec": {
   "display_name": "Python 3 (ipykernel)",
   "language": "python",
   "name": "python3"
  },
  "language_info": {
   "codemirror_mode": {
    "name": "ipython",
    "version": 3
   },
   "file_extension": ".py",
   "mimetype": "text/x-python",
   "name": "python",
   "nbconvert_exporter": "python",
   "pygments_lexer": "ipython3",
   "version": "3.11.1"
  }
 },
 "nbformat": 4,
 "nbformat_minor": 5
}