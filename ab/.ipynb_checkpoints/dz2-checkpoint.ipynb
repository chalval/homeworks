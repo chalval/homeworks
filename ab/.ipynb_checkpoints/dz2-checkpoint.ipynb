{
 "cells": [
  {
   "cell_type": "code",
   "execution_count": null,
   "metadata": {
    "collapsed": true,
    "pycharm": {
     "is_executing": true,
     "name": "#%%\n"
    }
   },
   "outputs": [],
   "source": []
  },
  {
   "cell_type": "markdown",
   "metadata": {
    "pycharm": {
     "name": "#%% md\n"
    }
   },
   "source": [
    "## Задание 1\n",
    "Сделайте приоритезацию гипотез из предыдущего урока с помощью ICE"
   ]
  },
  {
   "cell_type": "markdown",
   "metadata": {
    "pycharm": {
     "name": "#%%\n"
    }
   },
   "source": [
    "1. Объем продаж: Эта метрика измеряет суммарный объем продаж на платформе ozon.ru за определенный период времени, например месяц или год. Она позволяет оценить финансовый успех продукта и его способность привлекать покупателей."
   ]
  },
  {
   "cell_type": "markdown",
   "metadata": {},
   "source": [
    "Impact (Влияние) - оценка: 8\n",
    "\n",
    "Confidence (Уверенность) - оценка: 7\n",
    "\n",
    "Ease (Простота) - оценка: 6\n",
    "\n",
    "ICE = (8 x 7 x 6) = 336"
   ]
  },
  {
   "cell_type": "markdown",
   "metadata": {},
   "source": [
    "2. Количество заказов: Эта метрика отражает количество сделанных заказов на платформе. Она позволяет оценить активность пользователей и способность продукта превращать трафик в конкретные сделки."
   ]
  },
  {
   "cell_type": "markdown",
   "metadata": {},
   "source": [
    "ICE = (9 x 8 x 7) = 504"
   ]
  },
  {
   "cell_type": "code",
   "execution_count": null,
   "metadata": {},
   "outputs": [],
   "source": []
  }
 ],
 "metadata": {
  "kernelspec": {
   "display_name": "Python 3 (ipykernel)",
   "language": "python",
   "name": "python3"
  },
  "language_info": {
   "codemirror_mode": {
    "name": "ipython",
    "version": 3
   },
   "file_extension": ".py",
   "mimetype": "text/x-python",
   "name": "python",
   "nbconvert_exporter": "python",
   "pygments_lexer": "ipython3",
   "version": "3.11.1"
  }
 },
 "nbformat": 4,
 "nbformat_minor": 1
}
